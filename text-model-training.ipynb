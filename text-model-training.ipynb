{
 "cells": [
  {
   "cell_type": "markdown",
   "metadata": {},
   "source": [
    "**Authors**: Céline Hirsch, Sandra Frey, Sina Röllin\n",
    "\n",
    "**Deep Learning Project**: Inclusiveness in Sarcasm Detection"
   ]
  },
  {
   "cell_type": "markdown",
   "metadata": {},
   "source": [
    "# Final Model Text"
   ]
  },
  {
   "cell_type": "code",
   "execution_count": 1,
   "metadata": {},
   "outputs": [
    {
     "name": "stderr",
     "output_type": "stream",
     "text": [
      "c:\\Users\\celin\\anaconda3\\envs\\DLproj\\Lib\\site-packages\\tqdm\\auto.py:21: TqdmWarning: IProgress not found. Please update jupyter and ipywidgets. See https://ipywidgets.readthedocs.io/en/stable/user_install.html\n",
      "  from .autonotebook import tqdm as notebook_tqdm\n"
     ]
    }
   ],
   "source": [
    "from functions_text_model import *\n",
    "import os\n",
    "import json\n",
    "import random\n",
    "from transformers import BertTokenizer\n",
    "from torch.utils.data import Dataset, DataLoader\n",
    "import json\n",
    "from transformers import BertForSequenceClassification, BertTokenizer\n",
    "from torch.optim import AdamW\n",
    "from torch.utils.data import Dataset, DataLoader\n",
    "import torch.nn as nn\n",
    "from torch.utils.data import random_split\n",
    "from sklearn.model_selection import ParameterGrid"
   ]
  },
  {
   "cell_type": "markdown",
   "metadata": {},
   "source": [
    "First we have to load the datasets, which have already been prepared in `text-data-preparation.ipynb`. The different datasets are the mixed, the female and the male datasets. All of these datasets were split into training, validation and testing subsets."
   ]
  },
  {
   "cell_type": "code",
   "execution_count": 2,
   "metadata": {},
   "outputs": [],
   "source": [
    "# Load the data from the JSON files\n",
    "with open('data/mixed_train_set.json') as file:\n",
    "    mixed_train = json.load(file)\n",
    "\n",
    "with open('data/mixed_val_set.json') as file:\n",
    "    mixed_val = json.load(file)\n",
    "\n",
    "with open('data/mixed_test_set.json') as file:\n",
    "    mixed_test = json.load(file)\n",
    "\n",
    "# Convert the data to a list of dictionaries\n",
    "mixed_train_data = list(mixed_train.values())\n",
    "mixed_val_data = list(mixed_val.values())\n",
    "mixed_test_data = list(mixed_test.values())"
   ]
  },
  {
   "cell_type": "markdown",
   "metadata": {},
   "source": [
    "Let's define some classes and functions needed in the training pipeline."
   ]
  },
  {
   "cell_type": "code",
   "execution_count": 3,
   "metadata": {},
   "outputs": [],
   "source": [
    "# Load the BERT tokenizer\n",
    "tokenizer = BertTokenizer.from_pretrained('bert-base-uncased', do_lower_case=True)\n",
    "\n",
    "\n",
    "# Function to encode the text\n",
    "def encode_text(text):\n",
    "    encoded_dict = tokenizer.encode_plus(\n",
    "                        text,                      # Input text\n",
    "                        add_special_tokens = True, # Add '[CLS]' and '[SEP]'\n",
    "                        max_length = 64,           # Pad & truncate all sentences\n",
    "                        truncation = True,\n",
    "                        padding = 'max_length',\n",
    "                        return_attention_mask = True,   # Construct attention masks\n",
    "                        return_tensors = 'pt',     # Return pytorch tensors\n",
    "                   )\n",
    "    return encoded_dict['input_ids'], encoded_dict['attention_mask']\n",
    "\n",
    "\n",
    "# PyTorch Dataset\n",
    "class SarcasmDataset(Dataset):\n",
    "    def __init__(self, data):\n",
    "        self.data = data\n",
    "\n",
    "    def __len__(self):\n",
    "        return len(self.data)\n",
    "\n",
    "    def __getitem__(self, idx):\n",
    "        item = self.data[idx]\n",
    "        utterance = item['utterance']\n",
    "        context = item['context']\n",
    "        utterance_and_context = ' '.join([sentence for sentence in context] + [utterance]) # Combining the utterance and its context into one string.\n",
    "        sarcasm = int(item['sarcasm'])\n",
    "        input_ids, attention_mask = encode_text(utterance_and_context)\n",
    "        return input_ids.flatten(), attention_mask.flatten(), sarcasm\n",
    "    \n",
    "\n",
    "# Set seeds\n",
    "def set_seed(seed):\n",
    "    torch.manual_seed(seed)\n",
    "    torch.cuda.manual_seed_all(seed)\n",
    "    torch.backends.cudnn.deterministic = True\n",
    "    torch.backends.cudnn.benchmark = False\n",
    "    np.random.seed(seed)\n",
    "    random.seed(seed)\n",
    "    os.environ['PYTHONHASHSEED'] = str(seed)"
   ]
  },
  {
   "cell_type": "markdown",
   "metadata": {},
   "source": [
    "We will now do the hyperparameter tuning for the 3 different models: \n",
    "- one model will be trained on the mixed data \n",
    "- one model will be trained on utterances from female speakers only\n",
    "- one model will be trained on utterances from male speakers only\n",
    "\n",
    "The performance of each of these models is then evaluated on the validation dataset. "
   ]
  },
  {
   "cell_type": "code",
   "execution_count": 17,
   "metadata": {},
   "outputs": [
    {
     "name": "stdout",
     "output_type": "stream",
     "text": [
      "train Loss: 0.7282,  ACC: 0.4514, F1-weighted: 0.4007\n"
     ]
    },
    {
     "name": "stderr",
     "output_type": "stream",
     "text": [
      "100%|██████████| 2/2 [00:00<00:00,  5.63it/s]\n"
     ]
    },
    {
     "name": "stdout",
     "output_type": "stream",
     "text": [
      "eval Loss: 0.7143,  ACC: 0.4934, F1-weighted: 0.3295\n",
      "[{'lr': 1e-06, 'batch_size': 64, 'num_epochs': 20, 'weight_decay': 0.05, 'dropout_prob': 0, 'eval_loss': 0.7027416825294495, 'eval_metrics': {'ACC': 0.5065625, 'F1-weighted': 0.33540115798180314}}, {'lr': 1e-06, 'batch_size': 64, 'num_epochs': 20, 'weight_decay': 0.1, 'dropout_prob': 0, 'eval_loss': 0.7143087387084961, 'eval_metrics': {'ACC': 0.4934375, 'F1-weighted': 0.3295454545454546}}]\n"
     ]
    }
   ],
   "source": [
    "# HYPERPARAMETER TUNING MIXED MODEL\n",
    "\n",
    "# Set seed\n",
    "set_seed(42)\n",
    "    \n",
    "# Set device\n",
    "device = torch.device(\"cpu\")\n",
    "\n",
    "dropout_prob = 0\n",
    "\n",
    "# Define the hyperparameters to tune\n",
    "param_grid = {\n",
    "    'lr': [1e-6], # 1e-3, 1e-4, 1e-5\n",
    "    'num_epochs': [20],\n",
    "    'batch_size': [64], #8, 16, 32, 64\n",
    "    'weight_decay': [0.05, 0.1],\n",
    "    'dropout_prob': [0] #0, 0.1\n",
    "}\n",
    "\n",
    "# Create a parameter grid\n",
    "grid = ParameterGrid(param_grid)\n",
    "\n",
    "# Initialize a list to store the results\n",
    "results = []\n",
    "\n",
    "# Define the datasets\n",
    "train_dataset = SarcasmDataset(mixed_train_data)\n",
    "val_dataset = SarcasmDataset(mixed_val_data)\n",
    "\n",
    "# For each combination of hyperparameters\n",
    "for params in grid:\n",
    "\n",
    "    # Create the DataLoaders\n",
    "    train_dataloader = DataLoader(train_dataset, batch_size=params['batch_size'])\n",
    "    val_dataloader = DataLoader(val_dataset, batch_size=params['batch_size'])\n",
    "\n",
    "    # Create a new model\n",
    "    model = BertForSequenceClassification.from_pretrained(\n",
    "        \"prajjwal1/bert-tiny\",\n",
    "        num_labels = 2,\n",
    "        output_attentions = False,\n",
    "        output_hidden_states = False,\n",
    "    )\n",
    "\n",
    "    model.classifier = nn.Sequential(\n",
    "        nn.Dropout(params['dropout_prob']),\n",
    "        nn.Linear(in_features=128, out_features=64, bias=True),\n",
    "        nn.Tanh(),\n",
    "        nn.Linear(in_features=64, out_features=16, bias=True),\n",
    "        nn.Tanh(),\n",
    "        nn.Linear(in_features=16, out_features=2, bias=True)\n",
    "    )\n",
    "\n",
    "    model.to(device)\n",
    "\n",
    "    # Create a new optimizer with the current learning rate\n",
    "    optimizer = AdamW(model.parameters(), lr=params['lr'], weight_decay=params['weight_decay'])\n",
    "\n",
    "    # Create the optimizer  \n",
    "    criterion = nn.CrossEntropyLoss()\n",
    "\n",
    "    # Define metrics\n",
    "    metrics = {'ACC': acc, 'F1-weighted': f1}\n",
    "\n",
    "    # Initialize lists to store losses and metrics\n",
    "    train_loss_log, test_loss_log = [], []\n",
    "    metrics_names = list(metrics.keys())\n",
    "    train_metrics_log = [[] for _ in range(len(metrics))]\n",
    "    test_metrics_log = [[] for _ in range(len(metrics))]\n",
    "\n",
    "    # Train and evaluate the model for the current number of epochs\n",
    "    for epoch in range(params['num_epochs']):\n",
    "        print(f\"Epoch {epoch + 1}\")\n",
    "        print('learning rate:', params['lr'], 'batch size:', params['batch_size'], 'num_epochs:', params['num_epochs'])\n",
    "        train_loss, train_metrics = train_epoch(model, optimizer, criterion, metrics, train_dataloader, device)\n",
    "        val_loss, val_metrics = evaluate(model, criterion, metrics, val_dataloader, device)\n",
    "\n",
    "        # Log the losses and metrics\n",
    "        train_loss_log.append(train_loss)\n",
    "        test_loss_log.append(val_loss)\n",
    "        train_metrics_log = update_metrics_log(metrics_names, train_metrics_log, train_metrics)\n",
    "        test_metrics_log = update_metrics_log(metrics_names, test_metrics_log, val_metrics)\n",
    "\n",
    "    # Store the results\n",
    "    results.append({\n",
    "        'lr': params['lr'],\n",
    "        'batch_size': params['batch_size'],\n",
    "        'num_epochs': params['num_epochs'],\n",
    "        'weight_decay': params['weight_decay'],\n",
    "        'dropout_prob': params['dropout_prob'],\n",
    "        'eval_loss': val_loss,\n",
    "        'eval_metrics': val_metrics\n",
    "    })\n",
    "\n",
    "    # Plot and save the training and testing metrics\n",
    "    plot_filename = f'hyperparameter_tuning/plot_lr_{params[\"lr\"]}_bs_{params[\"batch_size\"]}_wd_{params[\"weight_decay\"]}_dp_{params[\"dropout_prob\"]}.png'\n",
    "    plot_training_hyperparameters(train_loss_log, test_loss_log, metrics_names, train_metrics_log, test_metrics_log, plot_filename)\n",
    "\n",
    "# Save the results to a JSON file\n",
    "results_path = 'hyperparameter_tuning/text_hyperparameter_mixed.json'\n",
    "os.makedirs(os.path.dirname(results_path), exist_ok=True)\n",
    "\n",
    "with open(results_path, 'w') as f:\n",
    "    json.dump(results, f, indent=4)\n",
    "\n",
    "print(results)"
   ]
  },
  {
   "cell_type": "code",
   "execution_count": 12,
   "metadata": {},
   "outputs": [
    {
     "name": "stdout",
     "output_type": "stream",
     "text": [
      "Item with highest ACC: {'lr': 0.0001, 'batch_size': 8, 'num_epochs': 20, 'weight_decay': 0.1, 'dropout_prob': 0, 'eval_loss': 1.0349595800042153, 'eval_metrics': {'ACC': 0.6416666666666667, 'F1-weighted': 0.46316646316646326}}\n",
      "Item with lowest ACC: {'lr': 1e-05, 'batch_size': 16, 'num_epochs': 20, 'weight_decay': 0.05, 'dropout_prob': 0, 'eval_loss': 0.7157171070575714, 'eval_metrics': {'ACC': 0.4375, 'F1-weighted': 0.31118968689094917}}\n"
     ]
    }
   ],
   "source": [
    "# Find the item with the highest ACC\n",
    "item_with_highest_acc = max(results, key=lambda x: x['eval_metrics']['ACC'])\n",
    "\n",
    "# Find the item with the lowest ACC\n",
    "item_with_lowest_acc = min(results, key=lambda x: x['eval_metrics']['ACC'])\n",
    "\n",
    "# Display results\n",
    "print(\"Item with highest ACC:\", item_with_highest_acc)\n",
    "print(\"Item with lowest ACC:\", item_with_lowest_acc)"
   ]
  },
  {
   "cell_type": "code",
   "execution_count": 6,
   "metadata": {},
   "outputs": [
    {
     "name": "stdout",
     "output_type": "stream",
     "text": [
      "[{'lr': 0.001, 'batch_size': 8, 'num_epochs': 20, 'weight_decay': 0.05, 'dropout_prob': 0, 'eval_loss': 0.8169898509979248, 'eval_metrics': {'ACC': 0.525, 'F1-weighted': 0.5096296296296295}}, {'lr': 0.001, 'batch_size': 8, 'num_epochs': 20, 'weight_decay': 0.1, 'dropout_prob': 0, 'eval_loss': 0.7019194960594177, 'eval_metrics': {'ACC': 0.525, 'F1-weighted': 0.5096296296296295}}, {'lr': 0.0001, 'batch_size': 8, 'num_epochs': 20, 'weight_decay': 0.05, 'dropout_prob': 0, 'eval_loss': 1.3557068169116975, 'eval_metrics': {'ACC': 0.5666666666666667, 'F1-weighted': 0.4182384282384282}}, {'lr': 0.0001, 'batch_size': 8, 'num_epochs': 20, 'weight_decay': 0.1, 'dropout_prob': 0, 'eval_loss': 1.0349595800042153, 'eval_metrics': {'ACC': 0.6416666666666667, 'F1-weighted': 0.46316646316646326}}, {'lr': 1e-05, 'batch_size': 8, 'num_epochs': 20, 'weight_decay': 0.05, 'dropout_prob': 0, 'eval_loss': 0.6665356079737346, 'eval_metrics': {'ACC': 0.5333333333333333, 'F1-weighted': 0.3840885040885041}}, {'lr': 1e-05, 'batch_size': 8, 'num_epochs': 20, 'weight_decay': 0.1, 'dropout_prob': 0, 'eval_loss': 0.6723457396030426, 'eval_metrics': {'ACC': 0.575, 'F1-weighted': 0.41167869167869164}}, {'lr': 0.001, 'batch_size': 8, 'num_epochs': 20, 'weight_decay': 0.05, 'dropout_prob': 0.1, 'eval_loss': 0.7283016045888265, 'eval_metrics': {'ACC': 0.475, 'F1-weighted': 0.4152380952380953}}, {'lr': 0.001, 'batch_size': 8, 'num_epochs': 20, 'weight_decay': 0.1, 'dropout_prob': 0.1, 'eval_loss': 0.7645104149977366, 'eval_metrics': {'ACC': 0.475, 'F1-weighted': 0.4152380952380953}}, {'lr': 0.0001, 'batch_size': 8, 'num_epochs': 20, 'weight_decay': 0.05, 'dropout_prob': 0.1, 'eval_loss': 1.2513569712638855, 'eval_metrics': {'ACC': 0.525, 'F1-weighted': 0.40990860990860994}}]\n"
     ]
    }
   ],
   "source": [
    "print(results)"
   ]
  },
  {
   "cell_type": "markdown",
   "metadata": {},
   "source": [
    "Now that we trained the different models with different hyperparameters and evaluated them on the validation sets, we can choose which hyperparameters give us the best model.\n",
    "\n",
    "We then train those models again with the number of epochs we chose from the graphs. That way we can save the models to access them again later."
   ]
  },
  {
   "cell_type": "code",
   "execution_count": 83,
   "metadata": {},
   "outputs": [
    {
     "name": "stdout",
     "output_type": "stream",
     "text": [
      "train Loss: 0.0725,  ACC: 0.9853, F1-weighted: 0.9031\n"
     ]
    },
    {
     "name": "stderr",
     "output_type": "stream",
     "text": [
      "100%|██████████| 6/6 [00:00<00:00, 10.00it/s]"
     ]
    },
    {
     "name": "stdout",
     "output_type": "stream",
     "text": [
      "eval Loss: 0.8306,  ACC: 0.7708, F1-weighted: 0.5797\n"
     ]
    },
    {
     "name": "stderr",
     "output_type": "stream",
     "text": [
      "\n"
     ]
    }
   ],
   "source": [
    "# TRAIN MIXED MODEL WITH CHOSEN HYPERPARAMETERS\n",
    "\n",
    "set_seed(42)\n",
    "    \n",
    "# Set device\n",
    "device = torch.device(\"cpu\")\n",
    "\n",
    "# Set hyperparameters\n",
    "lr = 0.0001\n",
    "num_epochs = 20\n",
    "batch_size = 16\n",
    "weight_decay = 0.1\n",
    "dropout_prob = 0\n",
    "\n",
    "# Define the datasets\n",
    "train_dataset = SarcasmDataset(mixed_train_data)\n",
    "val_dataset = SarcasmDataset(mixed_val_data)\n",
    "\n",
    "# Create the DataLoaders\n",
    "train_dataloader = DataLoader(train_dataset, batch_size=batch_size)\n",
    "val_dataloader = DataLoader(val_dataset, batch_size=batch_size)\n",
    "\n",
    "# Create a new model\n",
    "model = BertForSequenceClassification.from_pretrained(\n",
    "    \"prajjwal1/bert-tiny\",\n",
    "    num_labels = 2,\n",
    "    output_attentions = False,\n",
    "    output_hidden_states = False,\n",
    ")\n",
    "\n",
    "model.classifier = nn.Sequential(\n",
    "    nn.Dropout(dropout_prob),\n",
    "    nn.Linear(in_features=128, out_features=64, bias=True),\n",
    "    nn.Tanh(),\n",
    "    nn.Linear(in_features=64, out_features=16, bias=True),\n",
    "    nn.Tanh(),\n",
    "    nn.Linear(in_features=16, out_features=2, bias=True)\n",
    ")\n",
    "\n",
    "model.to(device)\n",
    "\n",
    "# Create a new optimizer with the current learning rate\n",
    "optimizer = AdamW(model.parameters(), lr=lr, weight_decay=weight_decay)\n",
    "\n",
    "# Create the optimizer  \n",
    "criterion = nn.CrossEntropyLoss()\n",
    "\n",
    "# Define metrics\n",
    "metrics = {'ACC': acc, 'F1-weighted': f1}\n",
    "\n",
    "# Initialize lists to store losses and metrics\n",
    "train_loss_log, test_loss_log = [], []\n",
    "metrics_names = list(metrics.keys())\n",
    "train_metrics_log = [[] for _ in range(len(metrics))]\n",
    "test_metrics_log = [[] for _ in range(len(metrics))]\n",
    "\n",
    "# Train and evaluate the model for the current number of epochs\n",
    "for epoch in range(num_epochs):\n",
    "    print(f\"Epoch {epoch + 1}\")\n",
    "    train_loss, train_metrics = train_epoch(model, optimizer, criterion, metrics, train_dataloader, device)\n",
    "    val_loss, val_metrics = evaluate(model, criterion, metrics, val_dataloader, device)\n",
    "\n",
    "    # Log the losses and metrics\n",
    "    train_loss_log.append(train_loss)\n",
    "    test_loss_log.append(val_loss)\n",
    "    train_metrics_log = update_metrics_log(metrics_names, train_metrics_log, train_metrics)\n",
    "    test_metrics_log = update_metrics_log(metrics_names, test_metrics_log, val_metrics)\n",
    "\n",
    "# Save model\n",
    "torch.save(model.state_dict(), 'models/mixed_model_text.pth')"
   ]
  },
  {
   "cell_type": "markdown",
   "metadata": {},
   "source": [
    "Now that we have chosen the best hyperparameters for each model and saved the model weights, we will evaluate the model performances on the untouched test sets."
   ]
  },
  {
   "cell_type": "code",
   "execution_count": 29,
   "metadata": {},
   "outputs": [
    {
     "name": "stderr",
     "output_type": "stream",
     "text": [
      "Some weights of BertForSequenceClassification were not initialized from the model checkpoint at prajjwal1/bert-tiny and are newly initialized: ['classifier.bias', 'classifier.weight']\n",
      "You should probably TRAIN this model on a down-stream task to be able to use it for predictions and inference.\n",
      "100%|██████████| 6/6 [00:00<00:00, 30.01it/s]"
     ]
    },
    {
     "name": "stdout",
     "output_type": "stream",
     "text": [
      "eval Loss: 0.5574,  ACC: 0.8507, F1-weighted: 0.7190\n"
     ]
    },
    {
     "name": "stderr",
     "output_type": "stream",
     "text": [
      "\n"
     ]
    }
   ],
   "source": [
    "# Test mixed model performance on test set\n",
    "\n",
    "set_seed(42)\n",
    "    \n",
    "# Set device\n",
    "device = torch.device(\"cpu\")\n",
    "\n",
    "# Set hyperparameters\n",
    "batch_size = 16\n",
    "dropout_prob = 0\n",
    "\n",
    "# Define the dataset\n",
    "test_dataset = SarcasmDataset(mixed_test_data)\n",
    "\n",
    "# Create the DataLoader\n",
    "test_dataloader = DataLoader(test_dataset, batch_size=batch_size)\n",
    "\n",
    "# Load the model\n",
    "mixed_model = BertForSequenceClassification.from_pretrained(\n",
    "    \"prajjwal1/bert-tiny\",\n",
    "    num_labels=2,\n",
    "    output_attentions=False,\n",
    "    output_hidden_states=False,\n",
    ")\n",
    "\n",
    "mixed_model.classifier = nn.Sequential(\n",
    "    nn.Dropout(dropout_prob),\n",
    "    nn.Linear(in_features=128, out_features=64, bias=True),\n",
    "    nn.Tanh(),\n",
    "    nn.Linear(in_features=64, out_features=16, bias=True),\n",
    "    nn.Tanh(),\n",
    "    nn.Linear(in_features=16, out_features=2, bias=True)\n",
    "    )\n",
    "\n",
    "# Load the weights\n",
    "state_dict = torch.load(\"models/mixed_model_text.pth\")\n",
    "mixed_model.load_state_dict(state_dict)\n",
    "\n",
    "mixed_model.eval()\n",
    "mixed_model.to(device)\n",
    "\n",
    "# Define the loss criterion\n",
    "criterion = nn.CrossEntropyLoss()\n",
    "\n",
    "# Define the metrics\n",
    "metrics = {'ACC': acc, 'F1-weighted': f1}\n",
    "\n",
    "# Evaluate the model\n",
    "test_loss, test_metrics = evaluate(mixed_model, criterion, metrics, test_dataloader, device)\n"
   ]
  }
 ],
 "metadata": {
  "kernelspec": {
   "display_name": "DLproj",
   "language": "python",
   "name": "python3"
  },
  "language_info": {
   "codemirror_mode": {
    "name": "ipython",
    "version": 3
   },
   "file_extension": ".py",
   "mimetype": "text/x-python",
   "name": "python",
   "nbconvert_exporter": "python",
   "pygments_lexer": "ipython3",
   "version": "3.11.9"
  }
 },
 "nbformat": 4,
 "nbformat_minor": 2
}
