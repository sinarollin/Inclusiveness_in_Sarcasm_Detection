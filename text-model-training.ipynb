{
 "cells": [
  {
   "cell_type": "markdown",
   "metadata": {},
   "source": [
    "**Authors**: Céline Hirsch, Sandra Frey, Sina Röllin\n",
    "\n",
    "**Deep Learning Project**: Inclusiveness in Sarcasm Detection"
   ]
  },
  {
   "cell_type": "markdown",
   "metadata": {},
   "source": [
    "# Final Model Text"
   ]
  },
  {
   "cell_type": "code",
   "execution_count": 1,
   "metadata": {},
   "outputs": [
    {
     "name": "stderr",
     "output_type": "stream",
     "text": [
      "c:\\Users\\celin\\anaconda3\\envs\\DLproj\\Lib\\site-packages\\tqdm\\auto.py:21: TqdmWarning: IProgress not found. Please update jupyter and ipywidgets. See https://ipywidgets.readthedocs.io/en/stable/user_install.html\n",
      "  from .autonotebook import tqdm as notebook_tqdm\n"
     ]
    }
   ],
   "source": [
    "from functions_text_model import *\n",
    "import os\n",
    "import json\n",
    "import random\n",
    "from transformers import BertTokenizer\n",
    "from torch.utils.data import Dataset, DataLoader\n",
    "import json\n",
    "from transformers import BertForSequenceClassification, BertTokenizer\n",
    "from torch.optim import AdamW\n",
    "from torch.utils.data import Dataset, DataLoader\n",
    "import torch.nn as nn\n",
    "from torch.utils.data import random_split\n",
    "from sklearn.model_selection import ParameterGrid"
   ]
  },
  {
   "cell_type": "markdown",
   "metadata": {},
   "source": [
    "First we have to load the datasets, which have already been prepared in `text-data-preparation.ipynb`. The different datasets are the mixed, the female and the male datasets. All of these datasets were split into training, validation and testing subsets."
   ]
  },
  {
   "cell_type": "code",
   "execution_count": 2,
   "metadata": {},
   "outputs": [],
   "source": [
    "# Load the data from the JSON files\n",
    "with open('data/train_mixed.json') as file:\n",
    "    mixed_train = json.load(file)\n",
    "\n",
    "with open('data/val_mixed.json') as file:\n",
    "    mixed_val = json.load(file)\n",
    "\n",
    "with open('data/test_mixed.json') as file:\n",
    "    mixed_test = json.load(file)\n",
    "\n",
    "# Convert the data to a list of dictionaries\n",
    "mixed_train_data = list(mixed_train.values())\n",
    "mixed_val_data = list(mixed_val.values())\n",
    "mixed_test_data = list(mixed_test.values())\n",
    "\n",
    "# Shuffle mixed data (to avoid having all female speakers first and then all male speakers)\n",
    "random.shuffle(mixed_train_data)\n",
    "random.shuffle(mixed_val_data)\n",
    "random.shuffle(mixed_test_data)"
   ]
  },
  {
   "cell_type": "code",
   "execution_count": 7,
   "metadata": {},
   "outputs": [
    {
     "name": "stdout",
     "output_type": "stream",
     "text": [
      "[{'utterance': \"Okay, listen, I'm really worried about this whole Raj thing.\", 'speaker': 'PENNY', 'context': ['(video game sound effects) (knocking)', \"I'm pumping!\", \"It's Penny.\", 'Oh. Come in.', 'I thought you were pumping.', 'I thought you were my boss.'], 'show': 'BBT', 'sarcasm': True, 'gender': 'F'}, {'utterance': \"Yeah well that's because uh .. I stayed in my room. Yeah, you don't want to look in my hamper.\", 'speaker': 'JOEY', 'context': ['Yeah, I mean I was up sick all night.', 'Yeah me too, all night. Really?!', \"How come we didn't cross paths?\"], 'show': 'FRIENDS', 'sarcasm': True, 'gender': 'M'}, {'utterance': \"See Joe that's why your parents told you not to jump on your bed!\", 'speaker': 'CHANDLER', 'context': ['Whoa!'], 'show': 'FRIENDS', 'sarcasm': True, 'gender': 'M'}, {'utterance': 'I thought his work wife was standing in my kitchen.', 'speaker': 'BERNADETTE', 'context': ['Hey, Bernadette.', 'Oh, hey, Raj.', \"Howard's not here.\", \"Oh, I know, he's been in the lab every night this week with his work wife.\", \"That's weird,\"], 'show': 'BBT', 'sarcasm': False, 'gender': 'F'}, {'utterance': 'Well, I did take care of Sheldon for 15 years, and he only bite me once', 'speaker': 'LEONARD', 'context': ['Sure, uh, next question.', '\"How are you with pets?\"'], 'show': 'BBT', 'sarcasm': False, 'gender': 'M'}, {'utterance': \"Yeah, and we don't find it weird at all.\", 'speaker': 'PENNY', 'context': ['Thank you, guys, again for agreeing to do this.', 'Yeah, it means so much to us.', \"Ah, we're happy we can help.\"], 'show': 'BBT', 'sarcasm': False, 'gender': 'F'}, {'utterance': 'He never disappoints, does he?', 'speaker': 'LEONARD', 'context': ['I always looked up to you and Pop-Pop.', 'I-I know what a challenging man he could be,', 'but I saw you stand by him and-and make him', 'into a better person.', 'I did.', 'Yeah, well, that is exactly', \"what I've been doing the last five years\", 'with this little work in progress.'], 'show': 'BBT', 'sarcasm': False, 'gender': 'M'}, {'utterance': \"What-wh-what so we'll just stay married forever?\", 'speaker': 'RACHEL', 'context': [\"Wow! This is so amazing. I uh, I really thought I'd have to talk you into this more.\"], 'show': 'FRIENDS', 'sarcasm': False, 'gender': 'F'}, {'utterance': 'Hmm. Look at you, improving on perfection. How so?', 'speaker': 'AMY', 'context': ['I think Howard hurting my feelings has in some ways made me a better person.'], 'show': 'BBT', 'sarcasm': False, 'gender': 'F'}, {'utterance': 'Oh, good, maybe he can build a nicer bridge to live under.', 'speaker': 'SHELDON', 'context': ['How much money did he win?', 'Over half a million dollars.', \"Wow. And he doesn't have to use it\", 'for research, he can do whatever he wants with it.'], 'show': 'BBT', 'sarcasm': False, 'gender': 'M'}, {'utterance': \"Why don't you just lie down on the floor and swim there?\", 'speaker': 'LEONARD', 'context': ['Where are we going?', \"You're driving me to the mall.\", \"I'm going to acquire a book that summarizes the current theories in the field of friend-making.\"], 'show': 'BBT', 'sarcasm': False, 'gender': 'M'}, {'utterance': 'Wow, you still have it? I just assumed it was balled up in the corner of a barn somewhere.', 'speaker': 'BERNADETTE', 'context': [\"I don't suppose you also brought napkins, clean bowls, utensils and a roll of toilet paper.\", 'Right here.', 'You guys are the best.', \"What's with the clothes?\", 'Well, with all the new stuff I bought for work, I needed to make room in my closet.', 'I meant why are they folded? \\r\\nBut whatever.', \"Ooh, what's this?\", 'That, believe it or not, is my prom dress.'], 'show': 'BBT', 'sarcasm': False, 'gender': 'F'}, {'utterance': 'No Blanche, with a venus fly trap', 'speaker': 'DOROTHY', 'context': [\"Morning everybody, Rose honey I hope you don't mind, I borrowed your golf club, I have a date to play this morning.\", 'With a man?'], 'show': 'GOLDENGIRLS', 'sarcasm': False, 'gender': 'F'}, {'utterance': 'When I have enough to destroy all the human toast on the Battlestar known as Galactica.', 'speaker': 'SHELDON', 'context': ['When are you going to stop making Cylon toast?'], 'show': 'BBT', 'sarcasm': False, 'gender': 'M'}, {'utterance': 'No, we all have equalized pay, remember?', 'speaker': 'GILFOYLE', 'context': [\"Okay, that was the third reference she's made to how much money she's making.\", 'Hmm.', \"That's a $3500 bag.\", 'How do you know? You have the same one?', 'No, I have the fucking Internet.', \"You don't think she's making more money than us, do you?\"], 'show': 'SV', 'sarcasm': True, 'gender': 'M'}, {'utterance': 'Well, I always figured it was to study us, discover our weaknesses, and report back to your alien overlords.', 'speaker': 'PENNY', 'context': ['Hello.', 'Hello', 'Alright dispense with the friendlt banter', \"I believe you know why I'm here.\"], 'show': 'BBT', 'sarcasm': False, 'gender': 'F'}, {'utterance': 'I just have a question. Does Bernadette ever talk about me?', 'speaker': 'HOWARD', 'context': ['Would you have opened the door if you knew it was me?', 'Not since I found out the teddy bear you gave me had a webcam in it.'], 'show': 'BBT', 'sarcasm': True, 'gender': 'M'}, {'utterance': 'It was like months ago.', 'speaker': 'RACHEL', 'context': [\"Oh, that's Ross's.\", 'Oh...  Oh my God. He remembered.', 'Remembered what?'], 'show': 'FRIENDS', 'sarcasm': True, 'gender': 'F'}, {'utterance': 'Imagine this: you\\'ve got the baby in one hand, groceries in the other, and you\\'re thinking, \"How am I gonna open this trunk?\"', 'speaker': 'HOWARD', 'context': [\"It's got a rearview camera, there's a DVD player--\", 'oh, and check this out.', \"It's like we're living in the future!\", 'Hey, show her the trunk! Show her the trunk!'], 'show': 'BBT', 'sarcasm': True, 'gender': 'M'}, {'utterance': 'We- we had our first fight this morning.', 'speaker': 'ROSS', 'context': ['Do you always have to bring him here?', \"I didn't wanna leave him alone. Alright?\"], 'show': 'FRIENDS', 'sarcasm': True, 'gender': 'M'}, {'utterance': 'Okay, you guys, just relax.  I doooo.', 'speaker': 'RACHEL', 'context': ['No, yeah! The groom cannot see the bride!', \"I'm not gonna marry Chandler!\", 'Not after this!'], 'show': 'FRIENDS', 'sarcasm': True, 'gender': 'F'}, {'utterance': 'Is it your teen years?', 'speaker': 'HOWARD', 'context': ['Penny, do you want to check this out? Yeah, sure.', 'All right, just, uh, look through here,', 'and if you want to take a picture, just push that button.', 'Okay.', 'Oh, what is that?', \"(gasps) Is it Mercury? I'm really jonesing for Mercury.\", \"I think it's a little early for Mercury to be visible yet.\", 'Playing hard to get.', 'I like that in a planet.', \"No, there's something fuzzy.\"], 'show': 'BBT', 'sarcasm': False, 'gender': 'M'}, {'utterance': 'Yeah, well, maybe she has interest in you.', 'speaker': 'PENNY', 'context': ['Fine, you want to meet her?', \"No, I just want to know that when you're at work,\", \"there's nothing going on.\", 'How many times do I have to tell you?', 'I have no interest in this woman.'], 'show': 'BBT', 'sarcasm': True, 'gender': 'F'}, {'utterance': \"Mm. Well, I've got a push-up bra I can loan you that always gets me free drinks.\", 'speaker': 'PENNY', 'context': [\"But while we're on the subject of fashion,\", \"I'm asking the university for some funding tomorrow.\", 'What should I wear?'], 'show': 'BBT', 'sarcasm': False, 'gender': 'F'}, {'utterance': \"You can't do anything.\", 'speaker': 'JOEY', 'context': ['Pickin up wedding dresses. Wapah.', 'Whats wapah', 'You now, whipped. Wapah', \"That's not whipped,\", \"That's what I did, wapah.\"], 'show': 'FRIENDS', 'sarcasm': True, 'gender': 'M'}, {'utterance': 'Do you think Penny will come here and take care of us?', 'speaker': 'SHELDON', 'context': ['I want grilled cheese.'], 'show': 'BBT', 'sarcasm': True, 'gender': 'M'}, {'utterance': \"I'm worried about whether Michael Jackson will be able to buy the remains of the elephant man.\", 'speaker': 'DOROTHY', 'context': ['Still worried about the money you owe the government?'], 'show': 'GOLDENGIRLS', 'sarcasm': False, 'gender': 'F'}, {'utterance': 'I did not mean to touch that,I mean', 'speaker': 'RACHEL', 'context': [\"Okay, well then how about a handshake? Oh God I'm sorry! Oh God, I'm sorry!\"], 'show': 'FRIENDS', 'sarcasm': True, 'gender': 'F'}, {'utterance': 'And if I had a friend, they might have told me that.', 'speaker': 'AMY', 'context': [\"All right, Amy's in charge of pricing and being 75.\", 'Hey, Penny, can you give me a hand with this?', 'Sure. Aw, we had one of these growing up. I used to play all the time.', 'Oh, yeah? I love Ping-Pong.', 'Oh, I meant beer pong.', \"I had a table, too, but I didn't have any friends, so all I did was serve.\", 'You know, you can leave one side up and play against it.'], 'show': 'BBT', 'sarcasm': True, 'gender': 'F'}, {'utterance': \"Come on, let's just start walking. There's got to be a gas station or something nearby.\", 'speaker': 'LEONARD', 'context': ['What if we were to get in a car with a crazy person?', \"Look at us, Sheldon.\\r\\nWe're the crazy people.\", 'Well, perhaps we should hold up a sign that assures passing motorists of our mental competence.', \"Good idea.\\r\\nWhy don't you get started on that?\"], 'show': 'BBT', 'sarcasm': True, 'gender': 'M'}, {'utterance': \"Oh, my God, it was me, it was me! I'm the one who blabbed she was pregnant!\", 'speaker': 'PENNY', 'context': ['How did you think you were gonna hide your pregnancy?', 'I had a plan-- I kept leaving Dove Bar wrappers around', 'to explain any weight gain.', 'Where did you get empty Dove Bar wrappers?', \"From all the Dove Bars I ate! I'm pregnant!\", 'Try to keep up!', \"I'm sorry. I-I have to go find out\", 'if my boss knows. Well,', \"whatever happens, we're here for you. Thanks.\", 'You guys are the best. Yeah, drive safe. We love you. And give us a call...'], 'show': 'BBT', 'sarcasm': True, 'gender': 'F'}, {'utterance': \"How many times do I have to say I'm sorry?\", 'speaker': 'PENNY', 'context': [\"It's hard to believe Howard's having a kid.\", \"Penny, you're the one who introduced him to Bernie.\"], 'show': 'BBT', 'sarcasm': False, 'gender': 'F'}, {'utterance': \"This was the husband and this was the wife. They'd go out on adventures together. Cruises, skiing, horseback riding. That was really me just duct taping them to our dog.\", 'speaker': 'BERNADETTE', 'context': [\"Oh, that's a nice one.\", 'Was it yours when you were little?', 'My dad built it for me.', \"Wow, it's so cute.\"], 'show': 'BBT', 'sarcasm': True, 'gender': 'F'}, {'utterance': \"I'm not setting her up with Raj.\", 'speaker': 'BERNADETTE', 'context': ['Hey, just a reminder--', \"I'm going out for drinks after work. Oh. Great.\", \"Just a reminder-- you're pregnant.\", \"I'm not drinking, just taking a new coworker out.\", \"Oh. Just a reminder-- you're married.\", 'Female coworker.', \"She's new in town, and I want to make her feel welcome.\", 'And let her know the office is full of liars', \"before everyone tells her I'm mean.\", 'Is she single?'], 'show': 'BBT', 'sarcasm': True, 'gender': 'F'}, {'utterance': \"No need to. As soon as she flies into California airspace, I'll feel a disturbance in the Force.\", 'speaker': 'LEONARD', 'context': [\"Leonard, what time does your mom's plane get in?\", \"I don't know-- some time tomorrow morning.\", \"Don't you want to know for sure?\"], 'show': 'BBT', 'sarcasm': False, 'gender': 'M'}, {'utterance': 'Wow! Imagine what our kids would look like!', 'speaker': 'MONICA', 'context': ['You guys make a', 'Yeah, we look great together.', 'we really do', 'Okay.'], 'show': 'FRIENDS', 'sarcasm': True, 'gender': 'F'}, {'utterance': 'Oh I am sorry, do you need a break?', 'speaker': 'CHANDLER', 'context': ['Oh wait stop! Stop! Stop!'], 'show': 'FRIENDS', 'sarcasm': False, 'gender': 'M'}, {'utterance': 'You or the steak?', 'speaker': 'PENNY', 'context': ['- What you eating? - Chicken fried steak.', \"What? You can't have chicken fried steak\", 'first thing in the morning. - Hey,', 'you knew I was a bad boy when you married me.', 'Come on, you want a piece of this?'], 'show': 'BBT', 'sarcasm': True, 'gender': 'F'}, {'utterance': \"Maybe it's a good thing we came here. It's like a lesson in what not to do.\", 'speaker': 'PENNY', 'context': ['Well, if I do well in sales, I could end up making a lot more money than you.', 'Not a problem. I grew up with a mother who emasculated my father financially and in every other aspect of his life, so...', \"...really, it's what I think love looks like.\", \"I'll be right back. I'm gonna go check on him.\"], 'show': 'BBT', 'sarcasm': False, 'gender': 'F'}, {'utterance': \"You sure you're not thinking about your husband?\", 'speaker': 'PENNY', 'context': ['Your husband was acting kind of weird today.'], 'show': 'BBT', 'sarcasm': False, 'gender': 'F'}, {'utterance': 'Sure, maybe a tableau of me trying to pummel you to death.', 'speaker': 'LEONARD', 'context': [\"Of course not. I'm a theoretical physicist.\\r\\nA career I chose in no small part because it's indoors, but if I'm able to detect slow-moving magnetic monopoles there, I will be the scientis to confirm string theory.\", 'People will write books about me.', 'Third-graders will create macaroni-art dioramas depicting scenes from my life.'], 'show': 'BBT', 'sarcasm': False, 'gender': 'M'}, {'utterance': '\"Dave.\" Sounds like Leonard\\'s got a new BFF.', 'speaker': 'HOWARD', 'context': ['There are always do-overs when my people play sports.', \"Where were you that's more important than Wii bowling night?\", 'Actually...', \"It's rhetorical.\\r\\nThere is nothing more important than Wii bowling night.\", \"Come on, it's just a video game. And we suck at it.\", 'Nice motivational speech from the team captain.', 'Where were you?'], 'show': 'BBT', 'sarcasm': False, 'gender': 'M'}, {'utterance': 'Aw, look at you watching sports.', 'speaker': 'PENNY', 'context': ['Go! (Inhales deeply)', 'Come on, raj!', 'Leonard: You can do this!', \"There's no way.\", 'What is happening?', \"This is an euler's disk.\", \"It's a physics toy that demonstrates angular momentum, potential energy, and kinetic energy.\"], 'show': 'BBT', 'sarcasm': False, 'gender': 'F'}, {'utterance': 'On the home shopping network', 'speaker': 'DOROTHY', 'context': ['We clinked at the glasses, Stan gave me a toy smile and I winked at him', 'And then I gulped down the champaigne in one go', \"And it didn't go sdown smoothly\", 'Later Stan told me that he put my engagement ring in the bottom of the glass', 'It turned up three days later.', 'Where did it turn up Dorothy?'], 'show': 'GOLDENGIRLS', 'sarcasm': False, 'gender': 'F'}, {'utterance': 'His legs flail about as if independent from his body', 'speaker': 'CHANDLER', 'context': ['According to Chandler, what phenomenon scares the bejesus out of him?', 'Michael flatly lord of the dance', 'That is correct!', 'The Irish gig guy?'], 'show': 'FRIENDS', 'sarcasm': True, 'gender': 'M'}, {'utterance': 'Okay, you can stop leading with that part of the story.', 'speaker': 'AMY', 'context': [\"We're engaged.\", \"Oh, my God, that's amazing!\", 'Wait, uh, tell me everything.', 'Well, Dr. Nowitzki was kissing me...'], 'show': 'BBT', 'sarcasm': True, 'gender': 'F'}, {'utterance': 'To his beneficence.', 'speaker': 'GILFOYLE', 'context': [\"I'd like for this company to just be different than Hooli\", 'and Goolybib and all the rest, you know?', \"Like, let's like not turn this into a corporate cult with bike meetings and voluntary retreats that are actually mandatory.\", 'And claiming to make the world a better place all the time.', \"Let's, uh... Let's just think different.\", \"Uh, don't think different. That's Apple.\", \"Let's just... Let's just do it.\", \"- That's Nike, man. - I know that's Nike.\", '- Yeah. - Uh...', \"Fuck it. I don't know. Let's just make it... Let's make it happen.\", 'Yeah, agreed.'], 'show': 'SV', 'sarcasm': True, 'gender': 'M'}, {'utterance': 'The whole thing! Can we go?', 'speaker': 'CHANDLER', 'context': ['You liked it? You really liked it?', 'Oh-ho-ho, yeah!', 'Which part exactly?'], 'show': 'FRIENDS', 'sarcasm': False, 'gender': 'M'}, {'utterance': \"I'm sure you were great at fingerpainting, also, Dinesh.\", 'speaker': 'GILFOYLE', 'context': ['I made my own computer when I was nine.', 'From scratch or kit?', 'It was from a kit, but I did my own mods.', \"That's what I thought. I was nine.\"], 'show': 'SV', 'sarcasm': False, 'gender': 'M'}, {'utterance': 'Thank you.', 'speaker': 'MONICA', 'context': [\"Yeah??? Oh... Okay, yes, we'll be right, we'll be right down.\"], 'show': 'FRIENDS', 'sarcasm': True, 'gender': 'F'}, {'utterance': 'Numb your brain with alcohol and watch a reality show where wealthy people pick fake arguments with each other?', 'speaker': 'SHELDON', 'context': ['This is so frustrating.', \"I can't believe the university expects us\", 'to just sit back and do nothing.', 'Sweetie, you just need to relax. You know what I like to do?'], 'show': 'BBT', 'sarcasm': False, 'gender': 'M'}, {'utterance': 'Huh! Whats dufus speled backwards?', 'speaker': 'MONICA', 'context': ['Okay done', 'Whats pleh?', 'ThatÕs Help spelled backwards so that helicopters can read it from the air.'], 'show': 'FRIENDS', 'sarcasm': False, 'gender': 'F'}, {'utterance': 'Same as all of us, getting out of a car without underwear.', 'speaker': 'PENNY', 'context': ['So, what are you working on these days?', \"I'm studying one-celled organisms to try and find the neurochemicals that lead to the feeling of shame.\", 'What would a one-celled organism have to be embarrassed about?'], 'show': 'BBT', 'sarcasm': False, 'gender': 'F'}, {'utterance': \"Oh I left them in my bulldozer .. I don't have tools!\", 'speaker': 'CHANDLER', 'context': ['It isnt working', 'We have to unscrew the chain', \"Hurry, I can't feel my ears\", 'Can you ever feel your ears?', 'Interesting'], 'show': 'FRIENDS', 'sarcasm': False, 'gender': 'M'}, {'utterance': \"That's so funny because you look more like Joey Tribbiani man slash woman.\", 'speaker': 'CHANDLER', 'context': ['And this from cry for help department, are you wearing makeup?', 'Yes I am, as of today, I am official Joey Tribbiani actor slash model.'], 'show': 'FRIENDS', 'sarcasm': False, 'gender': 'M'}, {'utterance': \"Me too! There's a game on Tuesday, do you wanna go?\", 'speaker': 'JOEY', 'context': [\"It's Jake.\", 'Joey. Hey Jake, do you like the Knicks?', 'Yeah, big fan.'], 'show': 'FRIENDS', 'sarcasm': True, 'gender': 'M'}, {'utterance': \"Oh, yes, we've got the moon and the trees and... Elizabeth McNulty, who apparently died when she was the same age I am.\", 'speaker': 'RAJ', 'context': [\"Okay. Well, then it's settled: small indoor church wedding, black-tie, no butterflies.\", 'Sounds perfect. Great.', \"You still didn't pick a date.\", 'Stay out of it! Shut up!'], 'show': 'BBT', 'sarcasm': True, 'gender': 'M'}, {'utterance': \"I don't think you could ever do that.\", 'speaker': 'PHOEBE', 'context': [\"There is nothing wrong with Jake! Okay? He is all man! I'm thinking even more than you.\", 'Oh yeah, he looked like a real lumberjack in those pink lacys.', \"I'm just saying that only a man completely secure with his masculinity could walk around in women's underwear!\"], 'show': 'FRIENDS', 'sarcasm': True, 'gender': 'F'}, {'utterance': 'I really, really enjoyed it. Very exotic.', 'speaker': 'PHOEBE', 'context': [\"Ha-ha, it's not my baby, ha-ha-ha!\", 'Very good,  so good.'], 'show': 'FRIENDS', 'sarcasm': False, 'gender': 'F'}, {'utterance': \"Okay, that is the lamest excuse you could've possibly come up with.\", 'speaker': 'PENNY', 'context': ['Penny, after all these years,', \"I still feel like maybe I don't deserve you.\"], 'show': 'BBT', 'sarcasm': True, 'gender': 'F'}, {'utterance': 'Do you need the real me for this conversation?', 'speaker': 'GILFOYLE', 'context': ['What the fuck is going on? Cause I just texted you,', \"and you were-- Um, we've been texting back and forth all day. Was that not you?\", 'Complicated question.', 'Is your shadow you?', '-Was that a bot?.', '-Yes.', 'So, I spent all day chatting with a bot?', 'YES', '-You made an AI Gilfoyle?', '-Yes.', '-And I was talking to it?'], 'show': 'SV', 'sarcasm': False, 'gender': 'M'}, {'utterance': 'I was saying the actual words', 'speaker': 'CHANDLER', 'context': [\"Well cathy's last boyfriend was Joey.\", \"And you're afraid you wont be able to fill his shoes\"], 'show': 'FRIENDS', 'sarcasm': False, 'gender': 'M'}, {'utterance': \"Maybe there's something in the book that will help.\", 'speaker': 'PENNY', 'context': [\"Ugh, Sheldon's texting me to drive him to Bernadette's.\", 'Well, what are you gonna say?', 'Well, they did just introduce the middle finger emoji.', \"If it's not for this, I don't know what it's for.\", \"No, no, no. He'll just think that means\", '\"Be there in a minute.\"', 'Uh...'], 'show': 'BBT', 'sarcasm': True, 'gender': 'F'}, {'utterance': 'Right, right, whereas Jewish mothers take a casual, la-di-da approach to their sons.', 'speaker': 'HOWARD', 'context': ['I was thinking of weaving it into her eulogy.', \"Howard, you've got to tell your mother.\", \"Hey, have you told your parents you're dating this short glass of skim milk here?\", \"Uh... that's different.\\r\\nFirst of all, we're not engaged; and second, Indian parents are very protective of their children.\"], 'show': 'BBT', 'sarcasm': False, 'gender': 'M'}, {'utterance': 'Yeah. I already got a man for that.', 'speaker': 'PENNY', 'context': ['Oh, Sheldon.', \"Didn't see you there. What's up?\", 'Well, uh, he was excited to talk science', 'with Amy, but she was working late,', 'so he decided to come over and share it with me.', 'With me, Leonard.', 'With me.', \"Sheldon, we've talked about this.\", \"You can't go around boring other people's wives.\"], 'show': 'BBT', 'sarcasm': False, 'gender': 'F'}, {'utterance': 'But since your failure as a leader is a virtual certainty, tolerating your short reign as CEO in exchange for a front-row seat to the disaster seems fair.', 'speaker': 'GILFOYLE', 'context': ['Gilfoyle, can I please be CEO of Pied Piper?', 'Spoken like a true leader.'], 'show': 'SV', 'sarcasm': False, 'gender': 'M'}, {'utterance': 'Great! Now we can do laundry all night. All night laundry!', 'speaker': 'CHANDLER', 'context': ['Actually, I was gonna do some laundry. Chandler, do you wanna do it with me?', 'Sure I will do it with you', \"You don't mind do you, that would really help me a lot Thanks.\", \"I don't think I have enough quarters\", 'I have quarters!'], 'show': 'FRIENDS', 'sarcasm': False, 'gender': 'M'}, {'utterance': \"You get that I'm wearing a corset because of you, not because I'm tired of breathing?\", 'speaker': 'AMY', 'context': ['Ready to go?', \"Hey, why aren't you in your costume?\", \"I just didn't feel like it.\"], 'show': 'BBT', 'sarcasm': True, 'gender': 'F'}, {'utterance': 'Yeah it would!', 'speaker': 'ROSS', 'context': ['Uhh, the ball thing.', 'Yeah?', \"Hey Ross, wouldn't it be great if we could go two straight hours without dropping it?!\"], 'show': 'FRIENDS', 'sarcasm': True, 'gender': 'M'}, {'utterance': 'For what? For letting you throw me out of your office?', 'speaker': 'ROSS', 'context': ['Hi. Look um, about what happened earlier...', 'No, hey, well, I-I completely understand. You were, you were stressed.', 'I was gonna give you a chance to apologise to me.'], 'show': 'FRIENDS', 'sarcasm': False, 'gender': 'M'}, {'utterance': \"Nobody knows. That's why he's number one.\", 'speaker': 'PENNY', 'context': [\"Oh, my God, he won't stop.\", 'How does he keep coming up with new ways to be annoying?'], 'show': 'BBT', 'sarcasm': False, 'gender': 'F'}, {'utterance': 'Rose, you should sit here and watch her hack herself to death', 'speaker': 'DOROTHY', 'context': ['ma I think you should sit down', 'Dorothy, should I get Sophia a glass of water?'], 'show': 'GOLDENGIRLS', 'sarcasm': False, 'gender': 'F'}, {'utterance': \"(CHUCKLES) Yeah. A grown man moving into his own apartment. It's crazy times. See ya!\", 'speaker': 'BERNADETTE', 'context': ['when you asked me to move in and help take care of your mom,', \"I'd still be here two years later?\", '- No one. - Nobody thought that.', \"Well, that's it.\", 'I guess so.', 'This is weird.'], 'show': 'BBT', 'sarcasm': False, 'gender': 'F'}, {'utterance': \"This-this, no, oh no, no-no-no, this is not,that's-that's not what it is.\", 'speaker': 'RACHEL', 'context': [\"Ohh! It's so nice to meet you.  Hello. Hello.\", 'Well, Joshua, that 500 was for groceries.', 'What?'], 'show': 'FRIENDS', 'sarcasm': True, 'gender': 'F'}, {'utterance': 'People usually start a meeting with a joke, but you go ahead-- end with one.', 'speaker': 'SHELDON', 'context': [\"We'll come back to that one.\", \"This brings us to the final item in our annual State of the Relationship Summit.\\r\\nItem 29: Valentine's Day.\", 'Ah, the worst for last. Hmm.', 'Classic Flakey.', \"Before you get upset, I believe I've come up with a way for us to celebrate the occasion that we both can enjoy.\"], 'show': 'BBT', 'sarcasm': True, 'gender': 'M'}, {'utterance': \"All right, well, they're already dead. There's nothing we can do.\", 'speaker': 'PENNY', 'context': ['So neither of them showed up for work today?', 'No, I tried calling and no one picked up.', \"Look, I'm sure they're fine.\", 'They were probably up all night coming up with a new theory.', 'I-I also texted to see if he wanted to go to the new', \"Fantastic Beasts movie and he didn't respond.\"], 'show': 'BBT', 'sarcasm': False, 'gender': 'F'}, {'utterance': \"She's trying to think of something She's never done before. This could take a while.\", 'speaker': 'AMY', 'context': [\"Calm down. I'll go first.\", \"All right, let's see.\", 'Never have I ever...'], 'show': 'BBT', 'sarcasm': False, 'gender': 'F'}, {'utterance': 'Maybe we should take them both to the park and let them run around together.', 'speaker': 'HOWARD', 'context': ['Hey, look at that.', \"You've got a Raj, we've got a Stuart.\"], 'show': 'BBT', 'sarcasm': False, 'gender': 'M'}, {'utterance': \"Don't try luring me in with sexy talk.\", 'speaker': 'SHELDON', 'context': ['Sheldon, I understand your apprehension,', 'but let me appeal to the scientist in you.', 'Given the five-week end date,', \"isn't it the perfect opportunity to consider this an experiment\", 'and collect data on our compatibility?'], 'show': 'BBT', 'sarcasm': True, 'gender': 'M'}, {'utterance': 'When you have to apologise', 'speaker': 'GILFOYLE', 'context': ['I am so fucked. This girl is gonna kill me or get me killed.', 'Do tell.', \"So, she's super attractive, and she's super smart, and she's way into me,like way more than a normal person should be.\", \"And sex! There's so much sex!\", 'The problem is the part after.'], 'show': 'SV', 'sarcasm': False, 'gender': 'M'}, {'utterance': \"Well, now I don't know if I want to know!\", 'speaker': 'BERNADETTE', 'context': [\"Screw it. I'm calling and finding out.\", 'Good. Call him.', \"Wait, I'm not sure I want to know.\", 'But you just said you wanted to know.'], 'show': 'BBT', 'sarcasm': True, 'gender': 'F'}, {'utterance': 'Do you actually pay for that haircut?', 'speaker': 'PENNY', 'context': ['Maybe moving in was a bad idea.', \"I haven't been here one day, I'm already causing problems.\", \"You didn't do anything. It's Sheldon.\", '\"You didn\\'t do anything. It\\'s Sheldon.\"', \"That'd make a nice needlepoint pillow.\", \"So, relax. We're happy to have you.\", \"Thank you, but how do I know you're not saying that just to be nice?\"], 'show': 'BBT', 'sarcasm': False, 'gender': 'F'}, {'utterance': \"Oh, great, it'll be easier for you to look up at the stars without a roof over your head.\", 'speaker': 'STUART', 'context': [\"Well, no offense, but I didn't go to art school.\", 'I have a PhD in astrophysics.'], 'show': 'BBT', 'sarcasm': False, 'gender': 'M'}, {'utterance': \"Terrific, it's just that... I don't think Penny wants me to go.\", 'speaker': 'LEONARD', 'context': [\"I don't think I can go to the North Pole.\", \"I know you're concerned about disappointing me but I want you to take comfort from the knowledge that my expectations of you are very low.\", \"Yeah, that's very comforting.\", \"Comforting is a part of leadership.\\r\\nIt's not a part I care for, but such is my burden.\"], 'show': 'BBT', 'sarcasm': True, 'gender': 'M'}, {'utterance': 'Oh, fun. Can I help?', 'speaker': 'PENNY', 'context': ['Hey. What are you doing?', \"Oh, I've decided to write my own Christmas letter.\", \"So I'm gonna make a list\", 'of all the cool things we did this year.'], 'show': 'BBT', 'sarcasm': True, 'gender': 'F'}, {'utterance': \"Nooo! No, that's not true. No, best time ever! Yeah, you rocked my world!\", 'speaker': 'MONICA', 'context': ['Do you know what just happened?', 'Yeah. We-we had sex and then we fell asleep.', 'No. We were in the middle of sex .. and'], 'show': 'FRIENDS', 'sarcasm': False, 'gender': 'F'}, {'utterance': \"And she still doesn't.\", 'speaker': 'BERNADETTE', 'context': [\"I mean, Ruchi's nice.\", \"We're just so different.\", \"I know. Sometimes when you're dating,\", 'you meet weird people.', \"I once met a girl who didn't like juggling.\"], 'show': 'BBT', 'sarcasm': True, 'gender': 'F'}, {'utterance': \"I don't know what I'm going to do. I don't want to break up over this.\", 'speaker': 'BERNADETTE', 'context': [\"He can't go to space.\", \"He's like a baby bird.\", 'Do you know he once got an asthma attack from reading an old library book?', \"You're kidding.\", 'No, I was there that day.', 'Sheldon threw his back out handing him that book.'], 'show': 'BBT', 'sarcasm': True, 'gender': 'F'}, {'utterance': \"That's funny. I always thought Howard was nature's way of saying  the Wolowitz line ends here\", 'speaker': 'RAJ', 'context': ['Hey, just-just hold the gate still while I screw it in.', \"You know, I don't know how I feel\", 'about all this baby-proofing.', \"If Halley can't teach herself to walk down the stairs,\", \"then maybe that's nature's way of saying the Wolowitz line ends here.\"], 'show': 'BBT', 'sarcasm': False, 'gender': 'M'}, {'utterance': 'No. No. No, no. No, no, no, no, no, no, no, no.', 'speaker': 'PENNY', 'context': ['Hey, Leonard, remember yesterday', 'when we were talking about having kids someday? Yeah?', \"Well, what if it wasn'’t someday.\", 'Oh, my God.', 'Oh, my God, are you pregnant?'], 'show': 'BBT', 'sarcasm': True, 'gender': 'F'}, {'utterance': 'Oh, and the science dudes want to talk science with you. What do you want to talk about-- rocks, dinosaurs, our friend the beaver?', 'speaker': 'HOWARD', 'context': [\"That's what I love about science-- there's no one right answer.\", 'So...you and Zack again, huh?', 'Yeah, yeah, me and Zack again.', 'Were we here earlier?', 'Okay, we should, we should go.', 'Ah, not yet. I want to talk science with the science dudes.'], 'show': 'BBT', 'sarcasm': False, 'gender': 'M'}, {'utterance': \"Oh, don't worry, I won't.\", 'speaker': 'PENNY', 'context': ['But is Sheldon really believing all this crap?', 'Well, he started to question it, but then I fake sneezed on him', 'and he ran to take a shower.', \"Please don't say anything, I feel terrible about this.\"], 'show': 'BBT', 'sarcasm': True, 'gender': 'F'}, {'utterance': 'You may need this more than I do.', 'speaker': 'SHELDON', 'context': ['Why are you pretending to be outdoors?', 'You hate it.', 'Hmm? Oh.', 'Amy showed me a compelling study', 'That demonstrated the cognitive benefit Of spending time in the wilderness.', 'Buddy, I am ready to drive you', 'Into the wilderness any time you want and leave you there.', 'Well, make your jokes, but some of the participants', 'Who spent four days in the woods away from all technology', 'Reported a 50% gain in reasoning skills upon their return.', \"Okay, if that's true, why aren't there more genius squirrels?\"], 'show': 'BBT', 'sarcasm': False, 'gender': 'M'}, {'utterance': \"I'm gonna hook up the garden hose, so it has running water.\", 'speaker': 'HOWARD', 'context': ['Oh, this is amazing.', 'I wish I had a playhouse like this when I was a kid.', 'Really? You never had a playhouse?', 'No. I mean, my dad did buy the house next door', 'for us to play in.'], 'show': 'BBT', 'sarcasm': True, 'gender': 'M'}, {'utterance': \"Well why don't you check in one of my saddle bags while I chew on a bale of hay.\", 'speaker': 'CHANDLER', 'context': ['I am sorry I think I can walk the rest of the way now just give me my boots.', \"I don't have your boots\", \"Well I don't have them either, where are they?\"], 'show': 'FRIENDS', 'sarcasm': False, 'gender': 'M'}, {'utterance': \"Hey, that's Joincidence with a C\", 'speaker': 'CHANDLER', 'context': ['You know what I just realized? Joker is poker with a J. Coincidence?'], 'show': 'FRIENDS', 'sarcasm': False, 'gender': 'M'}, {'utterance': 'No, by opening the door to a hangar and letting the airplane fly in.', 'speaker': 'HOWARD', 'context': ['I think these guys need to get some food.', 'By pushing a lever at the end of an obstacle course that we design?'], 'show': 'BBT', 'sarcasm': False, 'gender': 'M'}, {'utterance': 'How do you not tear off his clothes and take him right here on this table?', 'speaker': 'PENNY', 'context': [\"Awkward silence. Sheldon on his phone.\\r\\nNo touching. Somebody's having date night.\", \"It's actually steamier than it looks.\\r\\nSheldon's looking up the phallic symbolism of root vegetables in Renaissance paintings.\", \"Oh, no, I got bored with that.\\r\\nI'm just browsing cuticle scissors on Amazon.\"], 'show': 'BBT', 'sarcasm': False, 'gender': 'F'}, {'utterance': 'Let the dead man talk. So, why do you think that?', 'speaker': 'PENNY', 'context': ['FYI, we plan on selling out the human race hard.', \"In 20 years, who knows what'll happen with any of us?\", 'I think you and Leonard will be together.', 'You do?', \"Yeah.\\r\\nI think you're the best couple I know.\", \"That's so sweet.\", 'What the hell?! Excuse me?', 'Ah-da-da-da-da!'], 'show': 'BBT', 'sarcasm': True, 'gender': 'F'}, {'utterance': 'See now that I see crying over, but Bambi, is a cartoon.', 'speaker': 'CHANDLER', 'context': ['You know whats sadder than this? Bambi. I cried for three days with that movie. No wait two, cause on the thrid day my mother killed herself, so I was partly crying for that.'], 'show': 'FRIENDS', 'sarcasm': False, 'gender': 'M'}, {'utterance': 'Leonard was just saying how he was hoping to have dinner with one of your ex-boyfriends on his expensive boat.', 'speaker': 'BERNADETTE', 'context': ['Well, congratulations.', 'Hey, you and Leonard', 'should come over and have dinner with us on our boat.', 'Yeah, that would be so nice.'], 'show': 'BBT', 'sarcasm': False, 'gender': 'F'}, {'utterance': \"Oh my God!! Ohh, that is it! I'm leaving! You are just a horrible person!\", 'speaker': 'RACHEL', 'context': [\"Oh, I must've said that after you left.\", 'Said what? Exactly.', 'That you enjoyed the occasional drink .. ing binge.'], 'show': 'FRIENDS', 'sarcasm': True, 'gender': 'F'}, {'utterance': 'Your girlfriend and your ex-girlfriend are hanging out together? Oh, yeah, that can only be good for you.', 'speaker': 'RAJ', 'context': ['You mean when he was little.', \"Not as little as you'd want him to be.\", 'You know, this stuff is horrible.\\r\\nYou want to see if we can find the cafeteria and get real coffee? Sure.', \"We're going to the cafeteria to get some coffee. \\r\\nYou want anything?\", \"I'm fine.\", \"That's nice that they're getting along.\"], 'show': 'BBT', 'sarcasm': False, 'gender': 'M'}, {'utterance': 'Lords of Arabia', 'speaker': 'DOROTHY', 'context': ['Well ofcourse Blanche , they did it in that movie.', 'What movie?'], 'show': 'GOLDENGIRLS', 'sarcasm': False, 'gender': 'F'}, {'utterance': \"I'd love to show ya, but I just tucked her in.\", 'speaker': 'JOEY', 'context': ['Hi Joey.', \"Hey! How you doin'?\", 'He has the most amazing Porsche under there!'], 'show': 'FRIENDS', 'sarcasm': True, 'gender': 'M'}, {'utterance': \"Great, 'cause it's tomorrow, and I need you to plan it.\", 'speaker': 'HOWARD', 'context': [\"Look, I'm sorry about not inviting you\", \"to Halley's birthday. That wasn't cool.\", 'And of course we would love to have you. Here.', 'Thank you.', \"I'd really like to be there.\"], 'show': 'BBT', 'sarcasm': True, 'gender': 'M'}, {'utterance': \"It's okay, you know, we space cowboys don't do what we do for glory and fame. We leave that to your rock stars and your athletes and your Howie Mandels.\", 'speaker': 'HOWARD', 'context': [\"Yeah, well, Bernadette's a little under the weather and my mom's kind of under my dentist.\", 'Wait, your, your mother is sleeping with your dentist?', 'Former dentist.\\r\\nI need a new one now that I know where his hands have been.', \"So you're wandering all around by yourself?\\r\\nThat's not the kind of hero's welcome an astronaut should come home to.\"], 'show': 'BBT', 'sarcasm': True, 'gender': 'M'}, {'utterance': \"It's just a privilege to watch your mind at work.\", 'speaker': 'SHELDON', 'context': ['I never would have identified the fingerprints of string theory in the aftermath of the Big Bang.', \"My apologies. What's your plan?\"], 'show': 'BBT', 'sarcasm': False, 'gender': 'M'}, {'utterance': \"Oh, no, no, I said I'm inviting you to come with me to Stan Lee's house.\", 'speaker': 'PENNY', 'context': [\"Hi. I'm Penny. This is my friend, Sheldon.\", \"We're not friends at the moment. Depends on how this goes.\", 'Right, right. Anyway, Sheldon here is a huge fan of yours, and he was supposed to meet you the other day at the comic book store, but he kind of ended up in jail.', \"I see. And you thought you'd just come over to my house uninvited?\", 'You said we were invited.'], 'show': 'BBT', 'sarcasm': True, 'gender': 'F'}, {'utterance': \"Oh, um, I don't care!\", 'speaker': 'CHANDLER', 'context': ['How do I look?'], 'show': 'FRIENDS', 'sarcasm': False, 'gender': 'M'}, {'utterance': 'Just a sec, give me a minute to wake up for this,Ah-ha-ha!!', 'speaker': 'CHANDLER', 'context': ['What?', 'The ring is gone!', 'Ugh.'], 'show': 'FRIENDS', 'sarcasm': True, 'gender': 'M'}, {'utterance': 'Hey! That is not Cherry Garcia.', 'speaker': 'GILFOYLE', 'context': ['What about, Dwarfism 2.0?', \"Where's Dwarfism 1.0?\", 'Just in the world.', 'Oh.', \"That's prejudice.\", \"- That's hurtful. - I'm sorry.\", 'Small, come back now, you hear?', 'Interesting.'], 'show': 'SV', 'sarcasm': True, 'gender': 'M'}, {'utterance': 'Tell us the truth. Did she get you pregnant?', 'speaker': 'PENNY', 'context': ['So, are you actually engaged to this woman you just met?', 'Yeah.'], 'show': 'BBT', 'sarcasm': False, 'gender': 'F'}, {'utterance': 'What can it hurt?', 'speaker': 'BERNADETTE', 'context': ['- Barry Kripke just asked me out. - (GASPS)', 'Oh! Look at you, two guys in one day.', 'I told you things would change if you plucked your eyebrows.', 'What did he say?', '\"Hi, how are you? I was wondering if you\\'d like to get a drink after work sometime.\"', 'Well, what are you gonna do?', \"I don't know.\", 'I guess I assumed that I would eventually date other people,', 'but this is happening so fast.'], 'show': 'BBT', 'sarcasm': True, 'gender': 'F'}, {'utterance': 'Oh, so nothing. Great.', 'speaker': 'PENNY', 'context': ['There was water everywhere.', 'It was such a mess.', 'That stinks. How long are you out of the apartment?', 'About five weeks.', 'Ugh! Did you lose anything valuable?', 'Well, the pipe was over my closet, so all my clothes are gone.'], 'show': 'BBT', 'sarcasm': False, 'gender': 'F'}, {'utterance': 'Umm, would you please excuse me for a moment?', 'speaker': 'ROSS', 'context': [\"I need to talk to you, it's pretty urgent. It's about Monica and Chandler.\", 'Oh my God! Of course, of course.'], 'show': 'FRIENDS', 'sarcasm': True, 'gender': 'M'}, {'utterance': \"No, no, no, it's flattery.\", 'speaker': 'ROSS', 'context': [\"Aren't you with that girl over there?\", \"Well, yeah, kinda. Um, but that's okay, see we have an understanding, um, see we each have this list of five famous people, so I'm allowed to sleep with you.\"], 'show': 'FRIENDS', 'sarcasm': True, 'gender': 'M'}, {'utterance': \"Well, I didn't, and it's your fault.\", 'speaker': 'AMY', 'context': ['So, how is everyone?', 'Miserable and exhausted.', 'Really? I slept great.'], 'show': 'BBT', 'sarcasm': True, 'gender': 'F'}, {'utterance': 'How long do you think you can keep it from him?', 'speaker': 'AMY', 'context': ['You know, if he finds out we eloped,', \"it's gonna break his heart.\"], 'show': 'BBT', 'sarcasm': True, 'gender': 'F'}, {'utterance': \"Y'know you, you just stop being such a wuss and get those off and you come with us and watch naked girls dance around!!\", 'speaker': 'PHOEBE', 'context': [\"No you can't. You don't want to be guys, you'd be all hairy and wouldn't live as long.\"], 'show': 'FRIENDS', 'sarcasm': True, 'gender': 'F'}, {'utterance': 'Me, too.', 'speaker': 'PENNY', 'context': ['You really think so?', 'Yeah, I do.', \"You're a good person, Penny.\", 'I hope we get to spend lots of time together.'], 'show': 'BBT', 'sarcasm': False, 'gender': 'F'}, {'utterance': \"Hey, I already set up Howard and Bernadette. It's your turn to ruin some poor girl's life.\", 'speaker': 'PENNY', 'context': [\"Can't believe Bert has a girlfriend and I don't.\", 'I thought you were taking a break from women', 'to focus on your career.', 'Oh, grow up.', \"Don't you have any friends he can date?\"], 'show': 'BBT', 'sarcasm': False, 'gender': 'F'}, {'utterance': \"I've been seeing him for years, I'm still not convinced he's real.\", 'speaker': 'BERNADETTE', 'context': ['Things going well with you and Sheldon living together?', 'Better than ever.', 'He asks about my day, takes an interest in my life.', \"He's like my boyfriend in college, except he's real, so people can see him.\"], 'show': 'BBT', 'sarcasm': False, 'gender': 'F'}, {'utterance': 'I was disappointed to see the man I was engaged to pulling rainbow scarves out of his fly.', 'speaker': 'BERNADETTE', 'context': ['This is ridiculous.', 'The doctor knows what the baby is, the ultrasound tech knows,', 'Raj knows,', \"his Grey's Anatomy online fan group probably knows.\", \"Is it weird we don't?\", \"I don't know.\", 'Maybe the surprise will make it more fun.', 'Like magic tricks.', 'Remember how disappointed you were', 'when I explained the never-ending hanky?'], 'show': 'BBT', 'sarcasm': True, 'gender': 'F'}, {'utterance': \"Yeah, which is why it's okay.\", 'speaker': 'PENNY', 'context': ['Thanks for letting me put Halley in your room.', 'Yeah, no problem.', 'Oh, and, Penny, she kinda threw up on your stuffed bear.', \"Oh, that's okay.\", \"Hey. Tha-That's an Ewok and it's mine.\"], 'show': 'BBT', 'sarcasm': True, 'gender': 'F'}, {'utterance': \"Like I don't care at all.\", 'speaker': 'PENNY', 'context': ['I see you. I see you...', 'and boom. (explosion sound effect)', \"Gotcha! How's it feel, Penny?\"], 'show': 'BBT', 'sarcasm': True, 'gender': 'F'}, {'utterance': 'Why? You never look down in the shower?  Oh please I am allowed one joke in the monkey is penis genre.', 'speaker': 'CHANDLER', 'context': [\"This is so exciting! I haven't seen my monkey in almost a year\"], 'show': 'FRIENDS', 'sarcasm': False, 'gender': 'M'}, {'utterance': \"It's my friends.\", 'speaker': 'PHOEBE', 'context': ['Nothing, nothing.', \"Aaaah, what's wrong, c'mon.\", \"It's, I mean, it's nothing, I'm fine.\"], 'show': 'FRIENDS', 'sarcasm': True, 'gender': 'F'}, {'utterance': 'I gargled with tequila and may have swallowed a teeny bit.', 'speaker': 'SHELDON', 'context': [\"Hey, have you told your parents you're dating this short glass of skim milk here?\", \"Uh... that's different.\\r\\nFirst of all, we're not engaged; and second, Indian parents are very protective of their children.\", 'Right, right, whereas Jewish mothers take a casual, la-di-da approach to their sons.'], 'show': 'BBT', 'sarcasm': True, 'gender': 'M'}, {'utterance': 'You think \"coffee,\" means coffee. That is so sweet.', 'speaker': 'PENNY', 'context': [\"Come on. I think it's nice that Captain Sweatpants showed up to your art opening.\", \"Yeah, it would have been nicer if he hadn't touched all the cheese.\", \"You know, it's kind of early.\\r\\nDo you want to maybe come in for some coffee?\", \"Gee, it's a little late for coffee, isn't it?\"], 'show': 'BBT', 'sarcasm': False, 'gender': 'F'}, {'utterance': 'Uh-huh!', 'speaker': 'JOEY', 'context': [\"I've had better.\", 'Okay! When?!', 'All right! All right! It was the best nap ever!'], 'show': 'FRIENDS', 'sarcasm': True, 'gender': 'M'}, {'utterance': 'Was that place the sun?', 'speaker': 'CHANDLER', 'context': ['Hold on, there is something different.', 'I went to their tanning place your wife suggested.'], 'show': 'FRIENDS', 'sarcasm': False, 'gender': 'M'}, {'utterance': \"Really? We'’re joking about this now?\", 'speaker': 'LEONARD', 'context': ['Hey.', 'Hey.I-I made you dinner.', 'Your favorite: In-N-Out Burger out of the wrapper on a plate.', \"Thank you, but you don'’t have to do this. I'’m fine.\", \"I-I know it'’s not a baby, but it does leak when you pick it up.\"], 'show': 'BBT', 'sarcasm': True, 'gender': 'M'}, {'utterance': \"Amy, I can't just ask Wil Wheaton to leave. He's a minor celebrity. Once you explain who he is, many people recognize him.\", 'speaker': 'SHELDON', 'context': ['What do you think?', 'Can I speak to you for a second?', \"I'll be right back.\", 'Feel free to play with yourself.', \"I don't care for your friend, he's being rude to me.\", 'You need to ask him to leave.'], 'show': 'BBT', 'sarcasm': True, 'gender': 'M'}, {'utterance': \"Well what are you gonna do when he finds out he wasn't even asked?!\", 'speaker': 'MONICA', 'context': [\"Oh! Right. Umm, maybe that's because I didn't send him an invitation.\", \"Chandler! He's your father.  he should be at the wedding.\", \"I don't even know the man. Okay? We're not that close. I haven't seen him in years.\"], 'show': 'FRIENDS', 'sarcasm': True, 'gender': 'F'}, {'utterance': \"I'm sorry, what?\", 'speaker': 'PENNY', 'context': ['Ooh, you know what you could do?', 'You could have a baby, too.'], 'show': 'BBT', 'sarcasm': True, 'gender': 'F'}, {'utterance': \"Well, now that I've given up string theory, I'm struggling to find my next area of focus. So, in your professional opinion, which of these areas do you think is the most promising?\", 'speaker': 'SHELDON', 'context': [\"it's important to the story that my boobs be the last things to turn ape.\", \"It's sweet that he thinks there's a story.\", \"Oh, and there's not even a bathroom on set.\\r\\nI have to go to the gas station across the street.\", 'I mean, I was dressed like half an ape and still not even close to the most disgusting person in there.', 'Leonard, I could use your assistance.', \"Sure. What's up?\"], 'show': 'BBT', 'sarcasm': True, 'gender': 'M'}, {'utterance': \"Anyway, to this day, I still can't see a box of crayons without crossing my legs.\", 'speaker': 'PENNY', 'context': ['Damn.', \"Well, at least when we do make love, Sheldon won't be thinking about his mother.\", \"And yes, that is a cleverly veiled reference to Howard's lifelong obsession to crawl back into her spacious womb.\"], 'show': 'BBT', 'sarcasm': True, 'gender': 'F'}, {'utterance': 'What is the matter with your face?!', 'speaker': 'MONICA', 'context': [\"Let's try a look .. of far off .. wonderment. Okay, we'll-we'll gaze into our future and we'll think about our marriage and the days to come. Chandler!\"], 'show': 'FRIENDS', 'sarcasm': True, 'gender': 'F'}, {'utterance': \"You're right. That's so much better.\", 'speaker': 'BERNADETTE', 'context': ['Ah, come on!', 'Welcome to the next five to eight weeks of your life.', \"Sheldon, I said I didn't want to play your game.\", \"Well, then don't think of it as a game.\", 'Think of it as a source of information about one of the lesser known campaigns of World War II.'], 'show': 'BBT', 'sarcasm': False, 'gender': 'F'}, {'utterance': \"The big deal is I don't want naked, greasy strangers in my apartment when I want to kick back with a puzzle,beer! Cold beer.\", 'speaker': 'ROSS', 'context': ['Okay, well Ross, what is this really about?', 'Look, this is my home and I want to be able to come and go whenever I want!', \"Okay, I will find someplace else to do the rest of my appointments. I just don't know what the big deal is!\"], 'show': 'FRIENDS', 'sarcasm': True, 'gender': 'M'}, {'utterance': 'Is it a margarita machine?', 'speaker': 'GILFOYLE', 'context': ['Okay, well, actually this is a superior product, right here.'], 'show': 'SV', 'sarcasm': True, 'gender': 'M'}, {'utterance': 'Anyway, I should go, one of the lifeguards was just about to dismantle a nuclear device.', 'speaker': 'CHANDLER', 'context': [\"I know, it is isn't it?\", 'No, I mean it, this feels really good. Is it a hundred percent cotton?', 'Yeah! And I got it on sale, too.'], 'show': 'FRIENDS', 'sarcasm': True, 'gender': 'M'}, {'utterance': \"You know, if you're really serious about that, I hear there are some exciting opportunities in home care for the old and fat.\", 'speaker': 'HOWARD', 'context': [\"it's-it's what my grant was designated for, and that everybody has to do things they don't want to do.\", \"He then gave an example of something he had to do, even though he didn't want to, which was look at my stupid face.\", \"That's a rude thing to say. Out loud.\", \"It's an outrage.\\r\\nHonestly, I'm tempted to leave the university.\"], 'show': 'BBT', 'sarcasm': False, 'gender': 'M'}, {'utterance': \"Honey, that's you.\", 'speaker': 'PENNY', 'context': ['What are you listening to? Nothing.', 'Oh, come on, I want to hear.', \"We don't need GPS.\", \"Let's just see where the road takes us.\", 'I see why you turned it off.', 'That guy sounds like an idiot.'], 'show': 'BBT', 'sarcasm': True, 'gender': 'F'}, {'utterance': 'Why should I bow out?', 'speaker': 'STUART', 'context': ['This picture of Galactus eating a planet looks like', 'my preggo wife destroying a coffee cake.', '(laughing): Oh, yeah, I see it.', \"I'm just saying, you should bow out.\"], 'show': 'BBT', 'sarcasm': True, 'gender': 'M'}, {'utterance': 'Oh, science? Shocking!', 'speaker': 'PENNY', 'context': ['What are you lunatics doing?!', 'Sheldon had a breakthrough.', 'Actually, Amy and I had a breakthrough.'], 'show': 'BBT', 'sarcasm': False, 'gender': 'F'}, {'utterance': 'Like Jesus over Satan.', 'speaker': 'GILFOYLE', 'context': ['Why would he announce it so far ahead of the actual rollout?', 'No one does that.', \"He's got to be doing it just to fuck with us, right?\", \"I actually think we're okay. The player I gave them\", 'was from a retired repository that was audio only.', 'Video compression is a completely different paradigm.', 'What they have is like Pied Piper, but not as good.', '- People will see that. - Not if they get to market before us.', 'Inferior products win out all the time.'], 'show': 'SV', 'sarcasm': True, 'gender': 'M'}, {'utterance': \"It's like scrolling through the emojis on my phone.\", 'speaker': 'PENNY', 'context': [\"It's always fun watching him read someone else's work.\", '(scoffs)', '(moans)'], 'show': 'BBT', 'sarcasm': True, 'gender': 'F'}, {'utterance': \"That's easy for you to say, you weren't almost just killed.\", 'speaker': 'RACHEL', 'context': ['Yes! And he said really mean things that were only partly true.', \"I'm gonna go down there and teach that guy a lesson.\", \"Joey, please don't do that. I think it's best that we just forget about it.\"], 'show': 'FRIENDS', 'sarcasm': False, 'gender': 'F'}, {'utterance': 'Why not hexadecimal?', 'speaker': 'LEONARD', 'context': ['You and Amy having fun planning your wedding?', \"We're employing a mathematical approach\", 'called decision theory, so, heck, yeah.', 'Heck, yeah?', 'Looks like someone need to put a dollar in the almost-swear jar.', \"We've assigned all wedding decisions randomly,\", 'and each of us makes half of them.', 'You know, from venue to officiant', 'to numbering system for the tables: Roman or Dewey Decimal.'], 'show': 'BBT', 'sarcasm': True, 'gender': 'M'}, {'utterance': '- We wrote you a special thank you note. - Oh.', 'speaker': 'AMY', 'context': ['So we put a little picture of me', 'and a little picture of Sheldon in it.', 'In-in the locket?', 'Yes.', 'That was in a lost and found box?', 'Exactly.', 'Where we hid it?', 'So really, you gave us three amazing gifts.', 'You gave the locket, the adventure', 'and the realization that Amy and I can do anything', 'as long as we work together.'], 'show': 'BBT', 'sarcasm': True, 'gender': 'F'}, {'utterance': 'Thanks, but I kinda have a problem to deal with here.', 'speaker': 'JOEY', 'context': [\"I didn't know he could get me fired! What am I going to do?\", \"Well y'know Joey, you're a pretty charming guy.\"], 'show': 'FRIENDS', 'sarcasm': True, 'gender': 'M'}, {'utterance': \"You happy? You smell like Amy's dad.\", 'speaker': 'PENNY', 'context': ['There. See?', \"Oh, he's in here.\", 'I can smell his Axe body spray.', 'He wears Axe body spray.'], 'show': 'BBT', 'sarcasm': False, 'gender': 'F'}, {'utterance': 'I think I hate all of you nerds.', 'speaker': 'PENNY', 'context': [\"Howard's dopey haircut?\", 'I think he looks cute.', \"And I think you're cute.\", \"I think you're both cute.\"], 'show': 'BBT', 'sarcasm': True, 'gender': 'F'}, {'utterance': 'Oh, so all we need to do is get Sheldon knocked up.', 'speaker': 'PENNY', 'context': ['You know, I just read a study that suggests new mothers are better at sensing emotions for up to two years.', \"It's true.\", 'Pregnancy causes physiological changes in the brain that result in increased empathy.'], 'show': 'BBT', 'sarcasm': False, 'gender': 'F'}, {'utterance': \"Obviously, we're no longer a Justice League. We have no choice but to switch to our Muppet Baby costumes.\", 'speaker': 'SHELDON', 'context': ['I may have failed.', 'Okay, I guess we just go without a Wonder Woman.', \"I don't want to go without Penny.\", \"Oh, great. No Superman, no Wonder Woman? All we've got is a skinny Flash, an Indian Aquaman, a nearsighted Green Lantern, and a teeny, tiny Dark Knight.\"], 'show': 'BBT', 'sarcasm': True, 'gender': 'M'}, {'utterance': \"Oh, that's sweet, but today is all about you.\", 'speaker': 'HOWARD', 'context': [\"It feels like it wasn't that long ago\", 'we were here doing this for Halley.', \"Cause it wasn't.\", 'Which reminds me, before we leave,', \"let's get you a vasectomy.\"], 'show': 'BBT', 'sarcasm': True, 'gender': 'M'}, {'utterance': ' Yeah, we, uh, made gift bags, had wine, and then went online and saw this.', 'speaker': 'BERNADETTE', 'context': ['after you had a snootful of this, laddie!', 'Funny.', 'You boys have a nice time?', 'Yeah, it was great.', 'Low-key, like I promised. \\r\\nNo hanky-panky, no strippers.\\r\\nJust the guys telling jokes.', \"That's nice.\", 'How about you? Did you have a fun night?'], 'show': 'BBT', 'sarcasm': False, 'gender': 'F'}, {'utterance': \"I-I'm really sorry. It's just that I\", 'speaker': 'ROSS', 'context': [\"Hi umm, listen come here, come in. I'm so-so sorry about yesterday.\"], 'show': 'FRIENDS', 'sarcasm': True, 'gender': 'M'}, {'utterance': \"No I am upset because Joe Piscapo didn't get the lead role in rain man.\", 'speaker': 'DOROTHY', 'context': ['No rose.', \"Are you upset because Blanche is going to sell the house and we can't live together.\"], 'show': 'GOLDENGIRLS', 'sarcasm': False, 'gender': 'F'}, {'utterance': 'And I think my testicles may be in here too', 'speaker': 'CHANDLER', 'context': ['Do you guys have any exta ribbon?', 'Oh yeah sure, what do you need? We got lace, satin, sateen, rafia, gingam , felt.'], 'show': 'FRIENDS', 'sarcasm': False, 'gender': 'M'}, {'utterance': \"Yeah, I don't think so Joe.\", 'speaker': 'RACHEL', 'context': [\"Uhh, well I've got an audition down the street and I spilled sauce all over the front of my shirt.  You got an extra one?\", 'Yeah, sure. Umm .. here.', \"Great.  You got anything that's not\"], 'show': 'FRIENDS', 'sarcasm': True, 'gender': 'F'}, {'utterance': 'She watched it.', 'speaker': 'SHELDON', 'context': [\"I don't know what you were thinking,\", 'but take the video down now!'], 'show': 'BBT', 'sarcasm': True, 'gender': 'M'}, {'utterance': 'Ooh, I want to see the birthday girl.', 'speaker': 'PENNY', 'context': ['Hello.', 'Hi. You made it.', 'How you two feeling?', 'Oh, a little better.', 'Those books should have been called', 'Little Outhouse on the Prairie.', \"BERNADETTE: Halley's awake and ready for her party!\", 'Be right up!'], 'show': 'BBT', 'sarcasm': True, 'gender': 'F'}, {'utterance': \"I told him it was dumb, and now he'’s mad at me.\", 'speaker': 'HOWARD', 'context': ['Hey, honey, how was your day?', '[GROANS]', \"What'’s wrong?\", 'Raj is talking about', 'marrying this woman he just met.'], 'show': 'BBT', 'sarcasm': True, 'gender': 'M'}, {'utterance': \"And I'm laughing like I did the first time I heard it.\", 'speaker': 'PENNY', 'context': [\"Hello, Amy. It's Sheldon.\", \"Yeah, I know that we're broken up but I'm leaving this message because\", \"I thought perhaps you'd like to watch me be interviewed\", 'for a documentary about Mr. Spock.', 'Or as I like to call it, a Spockumentary. (LAUGHS)', \"Yeah, I'm going to use that joke in the interview,\", \"so try to laugh like you're hearing it for the first time.\", 'You know, hysterically.', \"And with a tinge of sadness that I'm no longer in your life.\", \"I'm the one who thought of Spockumentary.\"], 'show': 'BBT', 'sarcasm': False, 'gender': 'F'}, {'utterance': 'A lot of people are working on that research. So what is all this?', 'speaker': 'LEONARD', 'context': ['And this is a schematic for a bird-trapping device that will ultimately backfire and cause me physical injury?', \"What I'm doing here is trying to determine when I'm going to die.\"], 'show': 'BBT', 'sarcasm': False, 'gender': 'M'}, {'utterance': 'No!! You have been screwing us all day!', 'speaker': 'MONICA', 'context': [\"Oh you've got to be kidding me.\", 'What?', 'As a wedding gift to you, the hotel would like to give you the honeymoon suite.'], 'show': 'FRIENDS', 'sarcasm': True, 'gender': 'F'}, {'utterance': \"Don't you think looking for a new city to live in is a bit of an overreaction?\", 'speaker': 'LEONARD', 'context': ['My new computer came with Windows 7.', 'Windows 7 is much more user friendly than Windows Vista.', \"I don't like that.\"], 'show': 'BBT', 'sarcasm': True, 'gender': 'M'}, {'utterance': 'Great. Can you bring a few things?', 'speaker': 'HOWARD', 'context': [\"Hey, Stuart, you're coming to Halley's party, right?\", 'You bet.', 'Plus, I live there and I was invited,', \"so it's already better than my tenth birthday party.\"], 'show': 'BBT', 'sarcasm': True, 'gender': 'M'}, {'utterance': 'Yeah?', 'speaker': 'PHOEBE', 'context': ['Uh, okay, Pheebs?', 'Yeah?', \"Umm, y'know how the other day you were talking about how you didn't get to go to London and how you were kinda feeling left out?\"], 'show': 'FRIENDS', 'sarcasm': True, 'gender': 'F'}, {'utterance': '\"Placeholder\" would honestly be a better name than Pied Piper.', 'speaker': 'DINESH', 'context': ['I thought we were gonna replace the name \"Pied Piper.\"', 'I thought it was a place holder.'], 'show': 'SV', 'sarcasm': False, 'gender': 'M'}, {'utterance': \"Oh. We can'’t use that. That was the theme of my parents'’ divorce.\", 'speaker': 'RAJ', 'context': ['Cheers. [CLEARS THROAT]', \"Okay. I guess if we'’re going forward with this wedding,\", 'we should talk about the next steps.', 'Oh, like themes and flowers?', 'Actually, finances and taxes.'], 'show': 'BBT', 'sarcasm': False, 'gender': 'M'}, {'utterance': \"Oh, you know, that is so weird that yours came and mine didn't.\", 'speaker': 'PENNY', 'context': ['Hey Sheldon.', 'Hello Penny.', 'Get anything good?', 'Just the latest copy of Applied Particle Physics quarterly.'], 'show': 'BBT', 'sarcasm': False, 'gender': 'F'}, {'utterance': \"Why don't you keep that stuff in the bathroom?\", 'speaker': 'HOWARD', 'context': [\"That's a great idea. I'm going to get him to sign a Batman as well.\", 'What is it about the word \"unique\" you don\\'t understand?', 'Damn, paper cut. Nothing worse than a paper cut.', \"Well, obviously you don't remember your circumcision.\", \"There's Neosporin and Band-Aids in my top desk drawer.\"], 'show': 'BBT', 'sarcasm': True, 'gender': 'M'}, {'utterance': \"Thanks for trying, but you're not gonna be able to cheer me up.\", 'speaker': 'HOWARD', 'context': ['Reason number 13 to feel good:', 'as a launch, it was bad,', 'but as an explosion, it was glorious.', 'Reason 14:', 'you still have all your fingers,', 'and boys prefer a dad with fingers.'], 'show': 'BBT', 'sarcasm': True, 'gender': 'M'}, {'utterance': \"Yeah, well, Bernadette's a little under the weather and my mom's kind of under my dentist.\", 'speaker': 'HOWARD', 'context': ['Oh, look at you.\\r\\nYou, you look like you grew.', \"Yeah.\\r\\nThe lack of gravity did decompress my spine, so I'm like an inch and a half taller.\", \"I'm going to the DMV tomorrow to get my license changed before I shrink back.\", 'Oh, uh, come in, come in.', \"Oh, I, uh, I didn't think I was going to get to see you until tomorrow.\"], 'show': 'BBT', 'sarcasm': True, 'gender': 'M'}, {'utterance': 'but... thank you for saying it out loud.', 'speaker': 'PENNY', 'context': ['Wow, this is really flattering.', 'And also really weird, right?', ' Oh, just to be clear,', \"you don't get to... you know.\", 'No, I...I got it', '.Just because I slept', \"with your wife doesn't mean you get to sleep with mine.\", 'We... we get it,'], 'show': 'BBT', 'sarcasm': False, 'gender': 'F'}, {'utterance': 'Dear god, this parachute is a knapsack', 'speaker': 'CHANDLER', 'context': [\"Why wouldn't I be married when I am forty?\", 'Oh no no no, I just meant hypothetically', \"Ok , hypothetically, why won't I be married when I am forty?\", 'No', 'No, what is it? Is there something fundamentally unmarriable about me?'], 'show': 'FRIENDS', 'sarcasm': False, 'gender': 'M'}, {'utterance': \"It's not a real game! I made it up!\", 'speaker': 'CHANDLER', 'context': ['And now you want that money back.', 'Exactly.', 'Chandler, what kind of an idiot do you take me for?'], 'show': 'FRIENDS', 'sarcasm': True, 'gender': 'M'}, {'utterance': 'Did I wake you?', 'speaker': 'CHANDLER', 'context': ['Are you kidding me? Joey Joey Joey Joey!'], 'show': 'FRIENDS', 'sarcasm': False, 'gender': 'M'}, {'utterance': 'for a successful day of ballbusting.', 'speaker': 'PENNY', 'context': ['Morning, sunshine.', \"So I see you're making espresso.\", 'Yup.', 'Just need that extra jolt'], 'show': 'BBT', 'sarcasm': False, 'gender': 'F'}, {'utterance': \"Wow, there's a Denny's in Vegas you can actually get married in.\", 'speaker': 'PENNY', 'context': [\"Stuart: It's just my dad, probably calling to wish me a happy birthday. I'll call him back.\", 'You were saying?', \"Look, Raj, be honest with me. If you want to end things, just do it. Don't expect me to do it for you.\", \"End things? I'm trying to tell you that I love you.\", 'Happy birthday to you.'], 'show': 'BBT', 'sarcasm': True, 'gender': 'F'}, {'utterance': 'Really?', 'speaker': 'MEMBER-GIRL', 'context': [\"He doesn't need to be sarcastic. I mean, that was sarcasm wasn't it?\"], 'show': 'SARCASMOHOLICS', 'sarcasm': False, 'gender': 'F'}, {'utterance': \"Oh, hey, look, I found coffee! Okay, let's skedaddle.\", 'speaker': 'PHOEBE', 'context': ['Okay, let me just get a cup of coffee.', \"Oh Rachel, I know the best coffee house and it's sooo close.\", 'Closer than here?'], 'show': 'FRIENDS', 'sarcasm': True, 'gender': 'F'}, {'utterance': 'Not a great movie, but look at that beautiful desert.', 'speaker': 'RAJ', 'context': ['We did it. We have the west coast feed of hbo.', 'Ooh,real sex.', \"Big deal. Every time I watch that show, it's old women putting condoms on cucumbers.\", \"All right,let's see what's on the east coast feed.\", 'Dune.'], 'show': 'BBT', 'sarcasm': True, 'gender': 'M'}, {'utterance': \"Yeah, you should've seen her take down John Krasinski last week. Got him to admit he loved his wife. It was brutal.\", 'speaker': 'PENNY', 'context': ['All my friends hanging out, watching Ellen.', \"It's like, what am I gonna do with my other two wishes?\", \"It's not nice. She's having on the scientists\", 'who are trying to steal our Nobel Prize.', 'Although I will enjoy watching her expose', 'Pemberton and Campbell', 'for the coattail-riding frauds that they are.', \"That is Ellen's brand, gotcha journalism.\"], 'show': 'BBT', 'sarcasm': False, 'gender': 'F'}, {'utterance': \"(chuckles) Couldn't think of a single reason not to.\", 'speaker': 'AMY', 'context': ['Thank you, Amy.', \"It's so nice of you to have us over for dinner.\"], 'show': 'BBT', 'sarcasm': False, 'gender': 'F'}, {'utterance': \"So now I have to go so he'll think that I'm totally ok with seeing him!\", 'speaker': 'PHOEBE', 'context': ['And she was like \"Oh, don\\'t worry! I asked him. He\\'s totally ok with seeing you!\".'], 'show': 'FRIENDS', 'sarcasm': False, 'gender': 'F'}, {'utterance': \"Well, it's Thai food night.\", 'speaker': 'LEONARD', 'context': ['So, what are you thinking for dinner?'], 'show': 'BBT', 'sarcasm': True, 'gender': 'M'}, {'utterance': 'We think it was trying to spell out monkey.', 'speaker': 'CHANDLER', 'context': ['He also found an M and an O.'], 'show': 'FRIENDS', 'sarcasm': False, 'gender': 'M'}, {'utterance': 'That sounds nice.', 'speaker': 'PENNY', 'context': ['(sighs) Well, how about we stop', 'being so scared of losing each other', 'and just be together?'], 'show': 'BBT', 'sarcasm': True, 'gender': 'F'}, {'utterance': \"All right, Amy's in charge of pricing and being 75.\", 'speaker': 'HOWARD', 'context': [\"So, I put stickers on everything we're gonna sell.\\r\\nWe just need help taking it all out to the driveway.\", \"Can I be in charge of pricing?\\r\\nI've been going to garage sales my whole life.\", 'Can you believe I got these pantyhose for a nickel?'], 'show': 'BBT', 'sarcasm': False, 'gender': 'M'}, {'utterance': \"Wait, I'm still in them, right?\", 'speaker': 'AMY', 'context': ['Hey, whatcha doing?', 'Improving our wedding photos.', \"Oh, that's nice.\"], 'show': 'BBT', 'sarcasm': False, 'gender': 'F'}, {'utterance': 'My ride home with you was hellish.', 'speaker': 'LEONARD', 'context': ['She\\'s going to be home at \"eight-ish.\" Like, when is that?', '8:01? 8:02?', 'And what kind of scientist uses \"-ish\"?', \"I'll give it a go.\"], 'show': 'BBT', 'sarcasm': False, 'gender': 'M'}, {'utterance': \"Well, if that's all it takes, it's a good thing you don't have a dog.\", 'speaker': 'AMY', 'context': ['You slept with him?', \"I didn't know what else to do.\\r\\nHe had those big, sad eyes.\", 'Oh, sure, you had no choice.', 'He looked at me like this.'], 'show': 'BBT', 'sarcasm': False, 'gender': 'F'}, {'utterance': \"- No, no, no. I'm really good at this. All right, give me a hint. Does it involve difficulty initiating a stream of anything?\", 'speaker': 'SHELDON', 'context': ['Dr. Jeffries, hello again. Leonard Hofstadter.', 'Oh, oh, right, I remember your-your girlfriend.', 'Is-Is she... is she here?', \"No, she's not.\", 'So, what prescription are you getting filled?', '- Sheldon.', \"No. Wait, I want to guess. Don't tell me.\", \"I wasn't going to tell you.\"], 'show': 'BBT', 'sarcasm': True, 'gender': 'M'}, {'utterance': \"Relax, there's room for two babies in this group.\", 'speaker': 'LEONARD', 'context': [\"I'm, uh... (chuckles)\", 'uh, gonna be a father.', \"That's so amazing. What? Congratulations.\", 'Oh, no.', 'Why \"oh, no\"?', 'Because this changes everything.', 'What about comic book night?', 'Uh, what about playing games together?', 'What about our trips to Disneyland?', 'How can we do those things with a child around?'], 'show': 'BBT', 'sarcasm': False, 'gender': 'M'}, {'utterance': 'We might as well have interns, we hire illegal aliens.', 'speaker': 'DINESH', 'context': [\"- Where's ERLICH? - He's outside with the intern.\", '- What intern? - You got interns?'], 'show': 'SV', 'sarcasm': False, 'gender': 'M'}, {'utterance': 'Sadly, Mrs. Giselle Wolowitz is sensitive to chlorine. Lucky for her I like my fashion models pruny and bug-eyed.', 'speaker': 'HOWARD', 'context': ['Did I miss anything? Did they kick Giselle off?', 'Not yet, but her underwater photo shoot was an embarrassment.'], 'show': 'BBT', 'sarcasm': False, 'gender': 'M'}, {'utterance': 'What was that?!', 'speaker': 'RACHEL', 'context': ['Rachel is one of my closest friends. Although, being the only one who knows anything about this does makes me feel special. Okay!', 'Okay, stop-stop! Phoebe?!', 'Hey Rach!'], 'show': 'FRIENDS', 'sarcasm': True, 'gender': 'F'}, {'utterance': \"Wow, I didn't think anything could top last night's spelling bee, but here comes math.\", 'speaker': 'PENNY', 'context': ['Oh, hey, in seventh grade,', 'I built a cobra wave. You want to do that?', 'Oh, we can come up with a wave speed formula, and see how accurately we can predict the amplitude.'], 'show': 'BBT', 'sarcasm': False, 'gender': 'F'}, {'utterance': 'India.', 'speaker': 'LEONARD', 'context': [\"So, are you gonna give us a clue where we're headed?\", \"Uh, okay, let's see...\", \"They've got spicy food\", \"and there's a chance you'll get diarrhea.\"], 'show': 'BBT', 'sarcasm': False, 'gender': 'M'}, {'utterance': \"Y'know what I mean, like dubbies?\", 'speaker': 'RACHEL', 'context': [\"Y'know what, actually ..   Okay, okay, okay, what's so funny over here?\", \"I thought you didn't smoke.\", \"Oh, I thought you guys meant marijuana cigarettes, y'know?\"], 'show': 'FRIENDS', 'sarcasm': True, 'gender': 'F'}, {'utterance': 'Oh my god, where are all the men?', 'speaker': 'CHANDLER', 'context': ['Hey Ross I was wondering.'], 'show': 'FRIENDS', 'sarcasm': True, 'gender': 'M'}, {'utterance': \"Hmm. But you're not, are you?\", 'speaker': 'PENNY', 'context': [\"No, I'm not going to reconsider.\", 'Your request was denied.', \"I don't care if it helps you think;\", \"you don't need a koi pond in your office.\", 'Well, you should have thought about that', 'before you bought the koi!', 'Wow. That was a little rough.', 'Well, I have to be.', \"Everyone assumes I'm just gonna give them whatever they want.\"], 'show': 'BBT', 'sarcasm': True, 'gender': 'F'}, {'utterance': 'No, but maybe she wants a man with a pocket watch.', 'speaker': 'SHELDON', 'context': [\"I don't think there's anything in this jewelry store that Amy would appreciate more than the humidifier we were just looking at at Sears.\", 'Oh, my God, now I know what I sound like to you when I say stupid stuff.', 'Ooh, a pocket watch.', \"Okay, I don't think Amy wants a pocket watch.\"], 'show': 'BBT', 'sarcasm': True, 'gender': 'M'}, {'utterance': 'Grape Nuts for breakfast, quiet car ride, things are really breaking my way today.', 'speaker': 'SHELDON', 'context': [\"You'’re awfully quiet.\", 'Sorry.No, I like it.', 'Got a lot on my mind.', 'Would you like to talk about it?', 'Not really.'], 'show': 'BBT', 'sarcasm': False, 'gender': 'M'}, {'utterance': \"I mean if you hadn't initiated it I-I-I know I would've.\", 'speaker': 'ROSS', 'context': [\"Yeah. Listen about that, the whole uh, who came on to who thing really doesn't matter. I mean, I think it would've happened either way.\"], 'show': 'FRIENDS', 'sarcasm': True, 'gender': 'M'}, {'utterance': 'Oh my God I love that! - Really? - NO!', 'speaker': 'MONICA', 'context': ['I want to show you something too. You know those big road signs that say Merge? So I was thinking that we could get one fo those signs and hang it over the bed. Because its you and I together - Merge!'], 'show': 'FRIENDS', 'sarcasm': False, 'gender': 'F'}, {'utterance': \"I feel like I'm selling candy so our team can get new uniforms.\", 'speaker': 'PENNY', 'context': ['Never been on this side of the table before.', 'I feel powerful.', 'Really?'], 'show': 'BBT', 'sarcasm': True, 'gender': 'F'}, {'utterance': \"...to all the good times we had, like, uh, when we went camping and spent that night telling each other all our secrets. I told him I'm addicted to pedicures and he told me he lost his virginity to his cousin.\", 'speaker': 'RAJ', 'context': ['This man became my whole world.', 'Yeah, nice speech, Francine.', \"I'm not done, but thank you.\", 'I think back....'], 'show': 'BBT', 'sarcasm': True, 'gender': 'M'}, {'utterance': 'Not much, but he seemed to be in a pretty good place.', 'speaker': 'RAJ', 'context': [\"Oh... then I choose a janitor.\\r\\n'Cause I'm about to throw up.\", \"I'm in love.\\r\\nLet's do something else.\", \"Ooh, uh, Emily gets off work soon.\\r\\nWhy don't the four of us go out?\", 'Okay. Sounds good.', 'Should we call Howard and Bernadette?', \"I don't know what time their plane gets in, but let me, let me shoot them a text.\", 'Did he say anything about the funeral?'], 'show': 'BBT', 'sarcasm': True, 'gender': 'M'}, {'utterance': \"Oh, you say someone's name enough, they turn around.\", 'speaker': 'PHOEBE', 'context': ['David who?', 'David the scientist guy, David that I was in love with, David who went to Russia and broke my heart David!', 'Oh my God!'], 'show': 'FRIENDS', 'sarcasm': False, 'gender': 'F'}, {'utterance': 'Oh, the helmet will sense that and stop the experiment.', 'speaker': 'AMY', 'context': [\"So I'm gonna place the sensory isolation helmet on you\", 'for about five minutes.', 'All you need to do', 'is sit still and relax.', 'What do I do if I start to get claustrophobic?'], 'show': 'BBT', 'sarcasm': True, 'gender': 'F'}, {'utterance': 'Yeah either that or gloria estefan was right eventually the rhythm is going to get you', 'speaker': 'CHANDLER', 'context': ['Oh Mommy, Oh Daddy, I am a big ol Baddy.', 'I guess he must have gotten the part in the play.'], 'show': 'FRIENDS', 'sarcasm': False, 'gender': 'M'}, {'utterance': \"I've never loved anybody as much as I love you.\", 'speaker': 'MONICA', 'context': ['You roll another hard eight and we get married here tonight.', 'Are you serious?!', 'Yes! I love you!'], 'show': 'FRIENDS', 'sarcasm': True, 'gender': 'F'}, {'utterance': 'Do you want me to be honest or nice?', 'speaker': 'GILFOYLE', 'context': ['Guys, if I list you as references,', 'can I count on you to say nice things about me?', 'Be honest.'], 'show': 'SV', 'sarcasm': False, 'gender': 'M'}, {'utterance': \"No, I do, and that's why I hid it.\", 'speaker': 'LEONARD', 'context': ['Well, how much you got in there?', '$6,427.00', \"$47 once my nana's birthday check gets here.\", 'My god, leonard, do you know', 'What I could do with that kind of money?'], 'show': 'BBT', 'sarcasm': False, 'gender': 'M'}, {'utterance': \"Well, umm, my Mom's friend, Phoebe, is actually my birth Mom.\", 'speaker': 'PHOEBE', 'context': [\"Oh, I'll go out and get you some.\", 'Really?!', \"Nope! Because I'm not your boyfriend. Hey Pheebs, how did it go?\"], 'show': 'FRIENDS', 'sarcasm': True, 'gender': 'F'}, {'utterance': \"Well, I don't see what else you could've done.\", 'speaker': 'PENNY', 'context': ['I tried to console her, but nothing seemed to work.', 'Okay, when you say you consoled her,', 'what exactly does that mean?', '(sighs) I took a walk, I came back, she was still upset, so I came here.'], 'show': 'BBT', 'sarcasm': False, 'gender': 'F'}, {'utterance': 'A bucket of chicked. I hope you like it extra flat and crispy', 'speaker': 'DOROTHY', 'context': ['We brought dinner.', 'What you get?'], 'show': 'GOLDENGIRLS', 'sarcasm': False, 'gender': 'F'}, {'utterance': \"I'll go to dinner, and you can stay home with the Internet and have romance.\", 'speaker': 'BERNADETTE', 'context': ['We can have date night another night.', 'But you got all dressed up.', 'We were supposed to have dinner and romance.', \"We'll just have to divide and conquer.\"], 'show': 'BBT', 'sarcasm': False, 'gender': 'F'}, {'utterance': 'Weā€™re not peeking?', 'speaker': 'JOEY', 'context': ['Come on!'], 'show': 'FRIENDS', 'sarcasm': True, 'gender': 'M'}, {'utterance': 'I got asked to sign autographs there.', 'speaker': 'PENNY', 'context': ['Hey, have you ever heard of the Van Nuys Comic-Con? Yeah.', \"It's a dinky little convention where they sell collectibles\", 'and get sad D-list celebrities to appear. Why?'], 'show': 'BBT', 'sarcasm': True, 'gender': 'F'}, {'utterance': 'Noooo. Really?', 'speaker': 'MEMBER-BOY', 'context': ['I am having a bit of trouble telling when people are sarcastic.'], 'show': 'SARCASMOHOLICS', 'sarcasm': False, 'gender': 'M'}, {'utterance': \"You'’re right, you'’ve got Leonard. What more do you need?\", 'speaker': 'BERNADETTE', 'context': [\"Look, I know it'’s scary, but you'’re gonna be a great mom.\", \"I know I'’d be great, but the point is I don'’t want to be one.\", \"Maybe you wouldn'’t be great. You kind of got a temper.\", 'You know, not everyone needs to have kids to be fulfilled.'], 'show': 'BBT', 'sarcasm': False, 'gender': 'F'}, {'utterance': 'So, when the aliens brought you back, they just left the probe in?', 'speaker': 'LEONARD', 'context': ['You look like you come with a kickstand.', \"You can't make me feel bad.\", 'Hmm, maybe not. Leonard?'], 'show': 'BBT', 'sarcasm': False, 'gender': 'M'}, {'utterance': 'They gave him an assistant? If I want a new pen, I have to go to the bank with wire cutters.', 'speaker': 'HOWARD', 'context': [\"They're going to digitally add a supernova.\\r\\nThey say it's the perfect metaphor for my incandescent talent.\", 'Right, a ball of hot, flaming gas that collapses upon itself.', \"Excuse me. Oh, it's my assistant, Trevor.\", 'Go for Koothrappali.'], 'show': 'BBT', 'sarcasm': False, 'gender': 'M'}, {'utterance': 'Okay?', 'speaker': 'PHOEBE', 'context': [\"Listen, I'm sorry about that whole thing with Roger. It really wasn't right, and I, and I want to make it up to you, so umm, I brought you something that I think you'll really enjoy. Now, this is just a loan.\"], 'show': 'FRIENDS', 'sarcasm': True, 'gender': 'F'}, {'utterance': 'What?!?!', 'speaker': 'MONICA', 'context': ['Well, you-you coulda just turned the cushion over.', \"Yeah, I would've except I had a big spaghetti stain on the other side.\"], 'show': 'FRIENDS', 'sarcasm': True, 'gender': 'F'}, {'utterance': 'How could Archie defeat Predator?', 'speaker': 'HOWARD', 'context': ['Have you seen this Archie comic?', \"It's actually Archie versus Predator.\"], 'show': 'BBT', 'sarcasm': True, 'gender': 'M'}, {'utterance': 'Ah your own brand of vigilante justice.', 'speaker': 'CHANDLER', 'context': ['Did you call the cops?', 'No, we took her to lunch'], 'show': 'FRIENDS', 'sarcasm': False, 'gender': 'M'}, {'utterance': \"Okay, here's an idea. What if I change my name and go live with my cousin and her husband, Avi, in Israel?\", 'speaker': 'HOWARD', 'context': [\"It's actually a very elegant system. You know, what goes around comes around.\", 'Speaking of what goes around comes around...', 'Okay, look. Instead of trying to reinforce this structure here, what if we just ran another line, bypass it entirely?', \"It won't work. The diameter of the tubing is insufficient.\", 'What if we reposition the collection tank?', \"It won't work. No way to mount it.\"], 'show': 'BBT', 'sarcasm': False, 'gender': 'M'}, {'utterance': 'Sarcasm? At a sarcasmoholics meeting?', 'speaker': 'MEMBER-GIRL', 'context': ['Alright! Definitely!'], 'show': 'SARCASMOHOLICS', 'sarcasm': False, 'gender': 'F'}, {'utterance': \"Well, that's why I brought the bottle.\", 'speaker': 'PENNY', 'context': ['Here, drink this.', 'It might help.', \"What if it doesn't?\"], 'show': 'BBT', 'sarcasm': True, 'gender': 'F'}, {'utterance': 'How\\'s this? \"Pleased to meet you, Dr. Gablehauser. \"How fortunate for you that the university\\'s \"chosen to hire you, despite the fact \"that you\\'ve done no original research in 25 years, \"and instead have written a series of popular books \"that reduce the great concepts of science \"to a series of anecdotes, \"each one dumbed down to accommodate the duration \"of an average bowel movement.', 'speaker': 'SHELDON', 'context': ['You know, I am not going to enjoy this party.', \"I know, I'm familiar with you.\", 'The last department party, Professor Finkleday cornered me and talked about spelunking for 45 minutes.', 'Yes, I was there.', \"You know what's interesting about caves?\", 'What?', 'Nothing.', \"Then we'll avoid him, we'll meet the new department head, congratulate him, shake his hand and go.\"], 'show': 'BBT', 'sarcasm': False, 'gender': 'M'}, {'utterance': 'No. No, if we both like it, I\\'ll spend the rest of my life opening the freezer and going, \"Aw, no strawberry.\"', 'speaker': 'SHELDON', 'context': ['Well, who you gonna hit on?', 'The girl in front of us got strawberry.', \"That's your favorite.\"], 'show': 'BBT', 'sarcasm': True, 'gender': 'M'}, {'utterance': 'More reasons for you to stay.', 'speaker': 'PENNY', 'context': ['You are not a burden,', 'and we want you to come back and stay with us.', \"But I also upset Sheldon, and he's not gonna want to come over if I'm there.\"], 'show': 'BBT', 'sarcasm': False, 'gender': 'F'}, {'utterance': 'Well, Bernadette has to grow a baby inside of her, and Amy has to marry one. My life is great.', 'speaker': 'PENNY', 'context': ['All right, so what are we celebrating?', 'Well, you know, Bernadette and Howard are pregnant again,', 'and Amy and Sheldon are getting married.', \"I didn't want you to feel left out.\", 'Ah. Left out?'], 'show': 'BBT', 'sarcasm': False, 'gender': 'F'}, {'utterance': 'You were very clear. As was everyone else at the table.', 'speaker': 'SHELDON', 'context': ['Leonard, this is Tom.', 'Hi, Tom. Sheldon?', \"Didn't I explain to you about your little mistake in the cafeteria?\"], 'show': 'BBT', 'sarcasm': True, 'gender': 'M'}, {'utterance': \"- You and... Oh, sure. And while we're at it, why don't we get engaged, too? Why don't we get a little house, start a family? Enjoy our sunset years together? Do you hear yourself, woman?!\", 'speaker': 'SHELDON', 'context': ['And not the good Amazon with one-day shipping.\\r\\nThe awful one with birds and snakes.', 'You hate the sound of all those keys on his key chain.', 'Four keys!\\r\\nWho does he think he is, a warden?', \"See? Maybe you'll love living alone.\", \"I don't know. Perhaps.\", \"And if it turns out you don't... you and I could live together\"], 'show': 'BBT', 'sarcasm': False, 'gender': 'M'}, {'utterance': \"I don't know, something girlie.\", 'speaker': 'ROSS', 'context': ['Really, I, no, I think girls night out is a great idea. Okay, okay, bye', 'So what are they doing?'], 'show': 'FRIENDS', 'sarcasm': True, 'gender': 'M'}, {'utterance': 'It runs on syphilis?', 'speaker': 'SHELDON', 'context': [\"It's bad enough I'm being taken\", 'against my will.', \"I don't see why it has to be in\", \"some hippie's mobile sex dungeon.\", \"Well, Sheldon, there's something about this van\", \"that you're going to find very interesting.\"], 'show': 'BBT', 'sarcasm': False, 'gender': 'M'}, {'utterance': \"I still love it. I just think there's room for improvement.\", 'speaker': 'RAJ', 'context': [\"Where's this coming from?\", 'A few hours ago, we both loved this song.'], 'show': 'BBT', 'sarcasm': True, 'gender': 'M'}, {'utterance': 'I disagree, OJ. We should hire the best person for the job, period.', 'speaker': 'GILFOYLE', 'context': ['Uh, Dinesh, Gilfoyle, this is someone you guys recommended I contact,', 'Carla Walton? Yeah, we hung out with her a bunch', 'at the last S.F. vid/tech meet-up. Her code is fucking great.', 'She was head of engineering at Earcast?', 'She was engineering at Earcast. She pulled that whole system on her own.', 'You know what else excites me here?', \"There's a distinct over-representation of men in this company.\", 'Look around. I think it would behoove us', 'to prioritize hiring a woman.'], 'show': 'SV', 'sarcasm': True, 'gender': 'M'}, {'utterance': 'Why? Because she can sing and play guitar and do both at the same time?', 'speaker': 'PHOEBE', 'context': ['Wow! This girl is good.', 'Oh-ho yeah! A song with rhyming words. Oo, I never thought of that before.', 'I like her.'], 'show': 'FRIENDS', 'sarcasm': False, 'gender': 'F'}, {'utterance': 'Uh, listen, I need that broiling pan that Joey borrowed the other day.', 'speaker': 'MONICA', 'context': ['How many times have I told you guys, you never waych cooking channel', 'Hi Chandler.', 'Hey!'], 'show': 'FRIENDS', 'sarcasm': True, 'gender': 'F'}, {'utterance': \"I am talking to a man in space. If you don't have the (walkie-talkie static) then he might as well be at the Coffee Bean over on Lake Street.\", 'speaker': 'SHELDON', 'context': ['You know, joking, kidding around, hurting feelings.', 'Okay, my turn. \\r\\nLet me talk to him.', 'Go ahead.', '2311 North Los Robles Avenue, Pasadena, California to International Space Station.\\r\\nCan you read me? Over.', '(imitates walkie-talkie static) Yes, I read you, Sheldon.', 'Copy that. Over. (imitates walkie-talkie static)', 'What are you doing?'], 'show': 'BBT', 'sarcasm': True, 'gender': 'M'}, {'utterance': \"Alright, I'm gonna go pick up a few things for the trip.\", 'speaker': 'MONICA', 'context': [\"Oh, certainly. That's a combination of Bernoulli's principle and Newton's third law of motion.\", 'See?', 'Yeah, that\\'s the same as \"it has something to do with wind\".'], 'show': 'FRIENDS', 'sarcasm': True, 'gender': 'F'}, {'utterance': 'Well, when you get the machine, you can find out.', 'speaker': 'LEONARD', 'context': ['Sheldon, I just heard from the guys at mit', \"about that emotion reader; They're sending a prototype\", 'for you to beta test.', '(Gasps) Wonderful.', \"Although I'm not sure how I feel\", 'about being used as a Guinea pig.'], 'show': 'BBT', 'sarcasm': False, 'gender': 'M'}, {'utterance': '- Maybe I heard you wrong. A lot of words sound like \"yoga.\"', 'speaker': 'LEONARD', 'context': ['Leonard. Come, join us.', 'Hey, Dave.\\r\\nAnd Penny, what a surprise.', 'Dave was just showing me around the university. This place is unbelievable!', \"I know, I've been offering to show you around for a year and a half. You always said you had yoga.\", 'I never said that.'], 'show': 'BBT', 'sarcasm': False, 'gender': 'M'}, {'utterance': \"Umm, excuse me, we switched apartments. You can't eat are food anymore, that-that gravy train had ended.\", 'speaker': 'MONICA', 'context': ['Uh-huh.', 'That sounds great!', 'Hey!'], 'show': 'FRIENDS', 'sarcasm': True, 'gender': 'F'}, {'utterance': 'The little man who lives in there, who turns the light on and off will tell you.', 'speaker': 'DOROTHY', 'context': ['How would I know if they fog up?'], 'show': 'GOLDENGIRLS', 'sarcasm': False, 'gender': 'F'}, {'utterance': 'Because it wears a little sunbrella Rose.', 'speaker': 'DOROTHY', 'context': ['It is not a fly Rose', 'Spanish fly is not a fly?', \"No, it's a beetle.\", 'They call it a fly but its really a beetle?', 'Yes', 'How did they know its Spanish?'], 'show': 'GOLDENGIRLS', 'sarcasm': False, 'gender': 'F'}]\n"
     ]
    }
   ],
   "source": [
    "print(mixed_train_data)"
   ]
  },
  {
   "cell_type": "code",
   "execution_count": 3,
   "metadata": {},
   "outputs": [],
   "source": [
    "utterances = [item['utterance'] for item in mixed_train_data]\n",
    "tokenizer = BertTokenizer.from_pretrained('bert-base-uncased')\n",
    "utterances_tok = [tokenizer.encode(utt) for utt in utterances]\n",
    "len(utterances), len(utterances_tok)\n",
    "lengths = [len(utt) for utt in utterances_tok]"
   ]
  },
  {
   "cell_type": "markdown",
   "metadata": {},
   "source": [
    "Let's define some classes and functions needed in the training pipeline."
   ]
  },
  {
   "cell_type": "code",
   "execution_count": 4,
   "metadata": {},
   "outputs": [],
   "source": [
    "# Load the BERT tokenizer\n",
    "tokenizer = BertTokenizer.from_pretrained('bert-base-uncased', do_lower_case=True)\n",
    "\n",
    "\n",
    "# Function to encode the text\n",
    "def encode_text(text):\n",
    "    encoded_dict = tokenizer.encode_plus(\n",
    "                        text,                      # Input text\n",
    "                        add_special_tokens = True, # Add '[CLS]' and '[SEP]'\n",
    "                        max_length = 64,           # Pad & truncate all sentences\n",
    "                        truncation = True,\n",
    "                        #padding = 'max_length',\n",
    "                        return_attention_mask = True,   # Construct attention masks\n",
    "                        return_tensors = None,     # Return pytorch tensors\n",
    "                   )\n",
    "    return encoded_dict['input_ids'], encoded_dict['attention_mask']\n",
    "\n",
    "\n",
    "# Function to pad the input_ids and attention_mask\n",
    "def collate_fn(batch):\n",
    "    # Unpack raw inputs (assuming each item is a dict with 'input_ids')\n",
    "    input_ids = [item[0] for item in batch]\n",
    "    \n",
    "    # Find the max length in the batch\n",
    "    max_len = max(len(ids) for ids in input_ids)\n",
    "    \n",
    "    # Pad sequences and generate attention masks\n",
    "    padded_input_ids = [ids + [0] * (max_len - len(ids)) for ids in input_ids]\n",
    "    attention_masks = [[1] * len(ids) + [0] * (max_len - len(ids)) for ids in input_ids]\n",
    "    \n",
    "    return {\n",
    "        'input_ids': torch.tensor(padded_input_ids),\n",
    "        'attention_mask': torch.tensor(attention_masks),\n",
    "        'sarcasm': torch.tensor([item[2] for item in batch])\n",
    "    } \n",
    "\n",
    "\n",
    "# PyTorch Dataset\n",
    "class SarcasmDataset(Dataset):\n",
    "    def __init__(self, data):\n",
    "        self.data = data\n",
    "\n",
    "    def __len__(self):\n",
    "        return len(self.data)\n",
    "\n",
    "    def __getitem__(self, idx):\n",
    "        item = self.data[idx]\n",
    "        utterance = item['utterance']\n",
    "        context = item['context']\n",
    "        utterance_and_context = ' '.join([sentence for sentence in context] + [utterance]) # Combining the utterance and its context into one string.\n",
    "        sarcasm = int(item['sarcasm'])\n",
    "        input_ids, attention_mask = encode_text(utterance_and_context)\n",
    "        return input_ids, attention_mask, sarcasm\n",
    "    \n",
    "\n",
    "# Set seeds\n",
    "def set_seed(seed):\n",
    "    torch.manual_seed(seed)\n",
    "    torch.cuda.manual_seed_all(seed)\n",
    "    torch.backends.cudnn.deterministic = True\n",
    "    torch.backends.cudnn.benchmark = False\n",
    "    np.random.seed(seed)\n",
    "    random.seed(seed)\n",
    "    os.environ['PYTHONHASHSEED'] = str(seed)"
   ]
  },
  {
   "cell_type": "markdown",
   "metadata": {},
   "source": [
    "We will now do the hyperparameter tuning for the 3 different models: \n",
    "- one model will be trained on the mixed data \n",
    "- one model will be trained on utterances from female speakers only\n",
    "- one model will be trained on utterances from male speakers only\n",
    "\n",
    "The performance of each of these models is then evaluated on the validation dataset. "
   ]
  },
  {
   "cell_type": "code",
   "execution_count": 5,
   "metadata": {},
   "outputs": [
    {
     "name": "stdout",
     "output_type": "stream",
     "text": [
      "train Loss: 0.0537,  ACC: 0.9922, F1-weighted: 0.9922\n"
     ]
    },
    {
     "name": "stderr",
     "output_type": "stream",
     "text": [
      "100%|██████████| 1/1 [00:00<00:00, 10.05it/s]\n"
     ]
    },
    {
     "name": "stdout",
     "output_type": "stream",
     "text": [
      "eval Loss: 1.8068,  ACC: 0.4821, F1-weighted: 0.4739\n",
      "[{'lr': 0.001, 'batch_size': 64, 'num_epochs': 20, 'weight_decay': 0.05, 'dropout_prob': 0, 'eval_loss': 2.080536127090454, 'eval_metrics': {'ACC': 0.4642857142857143, 'F1-weighted': 0.44664031620553357}}, {'lr': 0.001, 'batch_size': 64, 'num_epochs': 20, 'weight_decay': 0.1, 'dropout_prob': 0, 'eval_loss': 1.806823492050171, 'eval_metrics': {'ACC': 0.48214285714285715, 'F1-weighted': 0.47392290249433106}}]\n"
     ]
    }
   ],
   "source": [
    "# HYPERPARAMETER TUNING MIXED MODEL\n",
    "\n",
    "# Set seed\n",
    "set_seed(42)\n",
    "    \n",
    "# Set device\n",
    "device = torch.device(\"cpu\")\n",
    "\n",
    "dropout_prob = 0\n",
    "\n",
    "# Define the hyperparameters to tune\n",
    "param_grid = {\n",
    "    'lr': [1e-3], # 1e-3, 1e-4, 1e-5\n",
    "    'num_epochs': [20],\n",
    "    'batch_size': [64], #8, 16, 32, 64\n",
    "    'weight_decay': [0.05, 0.1],\n",
    "    'dropout_prob': [0] #0, 0.1\n",
    "}\n",
    "\n",
    "# Create a parameter grid\n",
    "grid = ParameterGrid(param_grid)\n",
    "\n",
    "# Initialize a list to store the results\n",
    "results = []\n",
    "\n",
    "# Define the datasets\n",
    "train_dataset = SarcasmDataset(mixed_train_data)\n",
    "val_dataset = SarcasmDataset(mixed_val_data)\n",
    "\n",
    "# For each combination of hyperparameters\n",
    "for params in grid:\n",
    "\n",
    "    # Create the DataLoaders\n",
    "    train_dataloader = DataLoader(train_dataset, batch_size=params['batch_size'], shuffle=True, collate_fn=collate_fn)\n",
    "    val_dataloader = DataLoader(val_dataset, batch_size=params['batch_size'], shuffle=True, collate_fn=collate_fn)\n",
    "\n",
    "    # Create a new model\n",
    "    model = BertForSequenceClassification.from_pretrained(\n",
    "        \"prajjwal1/bert-tiny\",\n",
    "        num_labels = 2,\n",
    "        output_attentions = False,\n",
    "        output_hidden_states = False,\n",
    "    )\n",
    "\n",
    "    model.classifier = nn.Sequential(\n",
    "        nn.Dropout(params['dropout_prob']),\n",
    "        nn.Linear(in_features=128, out_features=64, bias=True),\n",
    "        nn.Tanh(),\n",
    "        nn.Linear(in_features=64, out_features=16, bias=True),\n",
    "        nn.Tanh(),\n",
    "        nn.Linear(in_features=16, out_features=2, bias=True)\n",
    "    )\n",
    "\n",
    "    model.to(device)\n",
    "\n",
    "    # Create a new optimizer with the current learning rate\n",
    "    optimizer = AdamW(model.parameters(), lr=params['lr'], weight_decay=params['weight_decay'])\n",
    "\n",
    "    # Create the optimizer  \n",
    "    criterion = nn.CrossEntropyLoss()\n",
    "\n",
    "    # Define metrics\n",
    "    metrics = {'ACC': acc, 'F1-weighted': f1}\n",
    "\n",
    "    # Initialize lists to store losses and metrics\n",
    "    train_loss_log, test_loss_log = [], []\n",
    "    metrics_names = list(metrics.keys())\n",
    "    train_metrics_log = [[] for _ in range(len(metrics))]\n",
    "    test_metrics_log = [[] for _ in range(len(metrics))]\n",
    "\n",
    "    # Train and evaluate the model for the current number of epochs\n",
    "    for epoch in range(params['num_epochs']):\n",
    "        print(f\"Epoch {epoch + 1}\")\n",
    "        print('learning rate:', params['lr'], 'batch size:', params['batch_size'], 'num_epochs:', params['num_epochs'])\n",
    "        train_loss, train_metrics = train_epoch(model, optimizer, criterion, metrics, train_dataloader, device)\n",
    "        val_loss, val_metrics = evaluate(model, criterion, metrics, val_dataloader, device)\n",
    "\n",
    "        # Log the losses and metrics\n",
    "        train_loss_log.append(train_loss)\n",
    "        test_loss_log.append(val_loss)\n",
    "        train_metrics_log = update_metrics_log(metrics_names, train_metrics_log, train_metrics)\n",
    "        test_metrics_log = update_metrics_log(metrics_names, test_metrics_log, val_metrics)\n",
    "\n",
    "    # Store the results\n",
    "    results.append({\n",
    "        'lr': params['lr'],\n",
    "        'batch_size': params['batch_size'],\n",
    "        'num_epochs': params['num_epochs'],\n",
    "        'weight_decay': params['weight_decay'],\n",
    "        'dropout_prob': params['dropout_prob'],\n",
    "        'eval_loss': val_loss,\n",
    "        'eval_metrics': val_metrics\n",
    "    })\n",
    "\n",
    "    # Plot and save the training and testing metrics\n",
    "    plot_filename = f'hyperparameter_tuning/plot_lr_{params[\"lr\"]}_bs_{params[\"batch_size\"]}_wd_{params[\"weight_decay\"]}_dp_{params[\"dropout_prob\"]}.png'\n",
    "    plot_training_hyperparameters(train_loss_log, test_loss_log, metrics_names, train_metrics_log, test_metrics_log, plot_filename)\n",
    "\n",
    "# Save the results to a JSON file\n",
    "results_path = 'hyperparameter_tuning/text_hyperparameter_mixed.json'\n",
    "os.makedirs(os.path.dirname(results_path), exist_ok=True)\n",
    "\n",
    "with open(results_path, 'w') as f:\n",
    "    json.dump(results, f, indent=4)\n",
    "\n",
    "print(results)"
   ]
  },
  {
   "cell_type": "code",
   "execution_count": 12,
   "metadata": {},
   "outputs": [
    {
     "name": "stdout",
     "output_type": "stream",
     "text": [
      "Item with highest ACC: {'lr': 0.0001, 'batch_size': 8, 'num_epochs': 20, 'weight_decay': 0.1, 'dropout_prob': 0, 'eval_loss': 1.0349595800042153, 'eval_metrics': {'ACC': 0.6416666666666667, 'F1-weighted': 0.46316646316646326}}\n",
      "Item with lowest ACC: {'lr': 1e-05, 'batch_size': 16, 'num_epochs': 20, 'weight_decay': 0.05, 'dropout_prob': 0, 'eval_loss': 0.7157171070575714, 'eval_metrics': {'ACC': 0.4375, 'F1-weighted': 0.31118968689094917}}\n"
     ]
    }
   ],
   "source": [
    "# Find the item with the highest ACC\n",
    "item_with_highest_acc = max(results, key=lambda x: x['eval_metrics']['ACC'])\n",
    "\n",
    "# Find the item with the lowest ACC\n",
    "item_with_lowest_acc = min(results, key=lambda x: x['eval_metrics']['ACC'])\n",
    "\n",
    "# Display results\n",
    "print(\"Item with highest ACC:\", item_with_highest_acc)\n",
    "print(\"Item with lowest ACC:\", item_with_lowest_acc)"
   ]
  },
  {
   "cell_type": "code",
   "execution_count": 6,
   "metadata": {},
   "outputs": [
    {
     "name": "stdout",
     "output_type": "stream",
     "text": [
      "[{'lr': 0.001, 'batch_size': 8, 'num_epochs': 20, 'weight_decay': 0.05, 'dropout_prob': 0, 'eval_loss': 0.8169898509979248, 'eval_metrics': {'ACC': 0.525, 'F1-weighted': 0.5096296296296295}}, {'lr': 0.001, 'batch_size': 8, 'num_epochs': 20, 'weight_decay': 0.1, 'dropout_prob': 0, 'eval_loss': 0.7019194960594177, 'eval_metrics': {'ACC': 0.525, 'F1-weighted': 0.5096296296296295}}, {'lr': 0.0001, 'batch_size': 8, 'num_epochs': 20, 'weight_decay': 0.05, 'dropout_prob': 0, 'eval_loss': 1.3557068169116975, 'eval_metrics': {'ACC': 0.5666666666666667, 'F1-weighted': 0.4182384282384282}}, {'lr': 0.0001, 'batch_size': 8, 'num_epochs': 20, 'weight_decay': 0.1, 'dropout_prob': 0, 'eval_loss': 1.0349595800042153, 'eval_metrics': {'ACC': 0.6416666666666667, 'F1-weighted': 0.46316646316646326}}, {'lr': 1e-05, 'batch_size': 8, 'num_epochs': 20, 'weight_decay': 0.05, 'dropout_prob': 0, 'eval_loss': 0.6665356079737346, 'eval_metrics': {'ACC': 0.5333333333333333, 'F1-weighted': 0.3840885040885041}}, {'lr': 1e-05, 'batch_size': 8, 'num_epochs': 20, 'weight_decay': 0.1, 'dropout_prob': 0, 'eval_loss': 0.6723457396030426, 'eval_metrics': {'ACC': 0.575, 'F1-weighted': 0.41167869167869164}}, {'lr': 0.001, 'batch_size': 8, 'num_epochs': 20, 'weight_decay': 0.05, 'dropout_prob': 0.1, 'eval_loss': 0.7283016045888265, 'eval_metrics': {'ACC': 0.475, 'F1-weighted': 0.4152380952380953}}, {'lr': 0.001, 'batch_size': 8, 'num_epochs': 20, 'weight_decay': 0.1, 'dropout_prob': 0.1, 'eval_loss': 0.7645104149977366, 'eval_metrics': {'ACC': 0.475, 'F1-weighted': 0.4152380952380953}}, {'lr': 0.0001, 'batch_size': 8, 'num_epochs': 20, 'weight_decay': 0.05, 'dropout_prob': 0.1, 'eval_loss': 1.2513569712638855, 'eval_metrics': {'ACC': 0.525, 'F1-weighted': 0.40990860990860994}}]\n"
     ]
    }
   ],
   "source": [
    "print(results)"
   ]
  },
  {
   "cell_type": "markdown",
   "metadata": {},
   "source": [
    "Now that we trained the different models with different hyperparameters and evaluated them on the validation sets, we can choose which hyperparameters give us the best model.\n",
    "\n",
    "We then train those models again with the number of epochs we chose from the graphs. That way we can save the models to access them again later."
   ]
  },
  {
   "cell_type": "code",
   "execution_count": 6,
   "metadata": {},
   "outputs": [
    {
     "name": "stdout",
     "output_type": "stream",
     "text": [
      "train Loss: 0.7942,  ACC: 0.5000, F1-weighted: 0.5000\n"
     ]
    },
    {
     "name": "stderr",
     "output_type": "stream",
     "text": [
      "100%|██████████| 4/4 [00:00<00:00, 30.89it/s]\n"
     ]
    },
    {
     "name": "stdout",
     "output_type": "stream",
     "text": [
      "eval Loss: 0.8404,  ACC: 0.4375, F1-weighted: 0.2628\n"
     ]
    }
   ],
   "source": [
    "# TRAIN MIXED MODEL WITH CHOSEN HYPERPARAMETERS\n",
    "\n",
    "set_seed(42)\n",
    "    \n",
    "# Set device\n",
    "device = torch.device(\"cpu\")\n",
    "\n",
    "# Set hyperparameters\n",
    "lr = 0.001\n",
    "num_epochs = 10\n",
    "batch_size = 16\n",
    "weight_decay = 0.1\n",
    "dropout_prob = 0.1\n",
    "\n",
    "# Define the datasets\n",
    "train_dataset = SarcasmDataset(mixed_train_data)\n",
    "val_dataset = SarcasmDataset(mixed_val_data)\n",
    "\n",
    "# Create the DataLoaders\n",
    "train_dataloader = DataLoader(train_dataset, batch_size=batch_size)\n",
    "val_dataloader = DataLoader(val_dataset, batch_size=batch_size)\n",
    "\n",
    "# Create a new model\n",
    "model = BertForSequenceClassification.from_pretrained(\n",
    "    \"prajjwal1/bert-tiny\",\n",
    "    num_labels = 2,\n",
    "    output_attentions = False,\n",
    "    output_hidden_states = False,\n",
    ")\n",
    "\n",
    "model.classifier = nn.Sequential(\n",
    "    nn.Dropout(dropout_prob),\n",
    "    nn.Linear(in_features=128, out_features=64, bias=True),\n",
    "    nn.Tanh(),\n",
    "    nn.Linear(in_features=64, out_features=16, bias=True),\n",
    "    nn.Tanh(),\n",
    "    nn.Linear(in_features=16, out_features=2, bias=True)\n",
    ")\n",
    "\n",
    "model.to(device)\n",
    "\n",
    "# Create a new optimizer with the current learning rate\n",
    "optimizer = AdamW(model.parameters(), lr=lr, weight_decay=weight_decay)\n",
    "\n",
    "# Create the optimizer  \n",
    "criterion = nn.CrossEntropyLoss()\n",
    "\n",
    "# Define metrics\n",
    "metrics = {'ACC': acc, 'F1-weighted': f1}\n",
    "\n",
    "# Initialize lists to store losses and metrics\n",
    "train_loss_log, test_loss_log = [], []\n",
    "metrics_names = list(metrics.keys())\n",
    "train_metrics_log = [[] for _ in range(len(metrics))]\n",
    "test_metrics_log = [[] for _ in range(len(metrics))]\n",
    "\n",
    "# Train and evaluate the model for the current number of epochs\n",
    "for epoch in range(num_epochs):\n",
    "    print(f\"Epoch {epoch + 1}\")\n",
    "    train_loss, train_metrics = train_epoch(model, optimizer, criterion, metrics, train_dataloader, device)\n",
    "    val_loss, val_metrics = evaluate(model, criterion, metrics, val_dataloader, device)\n",
    "\n",
    "    # Log the losses and metrics\n",
    "    train_loss_log.append(train_loss)\n",
    "    test_loss_log.append(val_loss)\n",
    "    train_metrics_log = update_metrics_log(metrics_names, train_metrics_log, train_metrics)\n",
    "    test_metrics_log = update_metrics_log(metrics_names, test_metrics_log, val_metrics)\n",
    "\n",
    "# Save model\n",
    "#torch.save(model.state_dict(), 'models/mixed_model_text.pth')\n",
    "\n",
    "plot_filename = f'hyperparameter_tuning/test_plot.png'\n",
    "plot_training_hyperparameters(train_loss_log, test_loss_log, metrics_names, train_metrics_log, test_metrics_log, plot_filename)"
   ]
  },
  {
   "cell_type": "markdown",
   "metadata": {},
   "source": [
    "Now that we have chosen the best hyperparameters for each model and saved the model weights, we will evaluate the model performances on the untouched test sets."
   ]
  },
  {
   "cell_type": "code",
   "execution_count": 29,
   "metadata": {},
   "outputs": [
    {
     "name": "stderr",
     "output_type": "stream",
     "text": [
      "Some weights of BertForSequenceClassification were not initialized from the model checkpoint at prajjwal1/bert-tiny and are newly initialized: ['classifier.bias', 'classifier.weight']\n",
      "You should probably TRAIN this model on a down-stream task to be able to use it for predictions and inference.\n",
      "100%|██████████| 6/6 [00:00<00:00, 30.01it/s]"
     ]
    },
    {
     "name": "stdout",
     "output_type": "stream",
     "text": [
      "eval Loss: 0.5574,  ACC: 0.8507, F1-weighted: 0.7190\n"
     ]
    },
    {
     "name": "stderr",
     "output_type": "stream",
     "text": [
      "\n"
     ]
    }
   ],
   "source": [
    "# Test mixed model performance on test set\n",
    "\n",
    "set_seed(42)\n",
    "    \n",
    "# Set device\n",
    "device = torch.device(\"cpu\")\n",
    "\n",
    "# Set hyperparameters\n",
    "batch_size = 16\n",
    "dropout_prob = 0\n",
    "\n",
    "# Define the dataset\n",
    "test_dataset = SarcasmDataset(mixed_test_data)\n",
    "\n",
    "# Create the DataLoader\n",
    "test_dataloader = DataLoader(test_dataset, batch_size=batch_size)\n",
    "\n",
    "# Load the model\n",
    "mixed_model = BertForSequenceClassification.from_pretrained(\n",
    "    \"prajjwal1/bert-tiny\",\n",
    "    num_labels=2,\n",
    "    output_attentions=False,\n",
    "    output_hidden_states=False,\n",
    ")\n",
    "\n",
    "mixed_model.classifier = nn.Sequential(\n",
    "    nn.Dropout(dropout_prob),\n",
    "    nn.Linear(in_features=128, out_features=64, bias=True),\n",
    "    nn.Tanh(),\n",
    "    nn.Linear(in_features=64, out_features=16, bias=True),\n",
    "    nn.Tanh(),\n",
    "    nn.Linear(in_features=16, out_features=2, bias=True)\n",
    "    )\n",
    "\n",
    "# Load the weights\n",
    "state_dict = torch.load(\"models/mixed_model_text.pth\")\n",
    "mixed_model.load_state_dict(state_dict)\n",
    "\n",
    "mixed_model.eval()\n",
    "mixed_model.to(device)\n",
    "\n",
    "# Define the loss criterion\n",
    "criterion = nn.CrossEntropyLoss()\n",
    "\n",
    "# Define the metrics\n",
    "metrics = {'ACC': acc, 'F1-weighted': f1}\n",
    "\n",
    "# Evaluate the model\n",
    "test_loss, test_metrics = evaluate(mixed_model, criterion, metrics, test_dataloader, device)\n"
   ]
  }
 ],
 "metadata": {
  "kernelspec": {
   "display_name": "DLproj",
   "language": "python",
   "name": "python3"
  },
  "language_info": {
   "codemirror_mode": {
    "name": "ipython",
    "version": 3
   },
   "file_extension": ".py",
   "mimetype": "text/x-python",
   "name": "python",
   "nbconvert_exporter": "python",
   "pygments_lexer": "ipython3",
   "version": "3.11.9"
  }
 },
 "nbformat": 4,
 "nbformat_minor": 2
}
