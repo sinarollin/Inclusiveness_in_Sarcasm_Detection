{
 "cells": [
  {
   "cell_type": "code",
   "execution_count": 31,
   "metadata": {},
   "outputs": [],
   "source": [
    "import pandas as pd\n",
    "import numpy as np\n",
    "import json"
   ]
  },
  {
   "cell_type": "code",
   "execution_count": 33,
   "metadata": {},
   "outputs": [
    {
     "name": "stderr",
     "output_type": "stream",
     "text": [
      "C:\\Users\\celin\\AppData\\Local\\Temp\\ipykernel_15648\\3459928223.py:5: FutureWarning: Setting an item of incompatible dtype is deprecated and will raise in a future error of pandas. Value '[ True  True  True ... False False False]' has dtype incompatible with float64, please explicitly cast to a compatible dtype first.\n",
      "  sarcasm_data.loc[:, 'Sarcasm'] = sarcasm_data['Sarcasm'].apply(lambda x: True if x == 0.0 else False)\n",
      "C:\\Users\\celin\\AppData\\Local\\Temp\\ipykernel_15648\\3459928223.py:31: SettingWithCopyWarning: \n",
      "A value is trying to be set on a copy of a slice from a DataFrame.\n",
      "Try using .loc[row_indexer,col_indexer] = value instead\n",
      "\n",
      "See the caveats in the documentation: https://pandas.pydata.org/pandas-docs/stable/user_guide/indexing.html#returning-a-view-versus-a-copy\n",
      "  gender_data['Gender'] = np.where(gender_data['SPEAKER'].isin(female_speakers), 'F', 'M')\n"
     ]
    }
   ],
   "source": [
    "raw_data = pd.read_csv('data/mustard++_text.csv')\n",
    "\n",
    "# Filter out the utterances that are not labeled with sarcasm and relabel the column\n",
    "sarcasm_data = raw_data[raw_data['Sarcasm'].notna()]\n",
    "sarcasm_data.loc[:, 'Sarcasm'] = sarcasm_data['Sarcasm'].apply(lambda x: True if x == 0.0 else False)\n",
    "\n",
    "# Add context data by hand\n",
    "context_data = sarcasm_data.copy()\n",
    "context_data['CONTEXT'] = None\n",
    "\n",
    "for index, row in context_data.iterrows():\n",
    "    scene = row['SCENE']\n",
    "    key = row['KEY']\n",
    "    scene_data = raw_data[raw_data['SCENE'] == scene]\n",
    "\n",
    "    context = []\n",
    "    for index_, row_ in scene_data.iterrows():\n",
    "        if row_['KEY'] != key:\n",
    "            context.append(row_['SENTENCE'])\n",
    "    \n",
    "    context_data.at[index, 'CONTEXT'] = context\n",
    "\n",
    "# Remove columns that are not needed\n",
    "cleaned_data = context_data.drop(columns=['KEY', 'END_TIME', 'Sarcasm_Type', 'Implicit_Emotion', 'Explicit_Emotion', 'Valence', 'Arousal'])\n",
    "    \n",
    "# Define gender of speakers and remove utterances where gender is unclear\n",
    "female_speakers = ['AMY', 'PENNY','BERNADETTE', 'MONICA','DOROTHY', 'ROSE','RACHEL', 'PHOEBE', 'SOPHIA', 'MEMBER-GIRL', 'BLANCHE']\n",
    "male_speakers = ['SHELDON', 'RAJ', 'HOWARD', 'LEONARD', 'STUART', 'CHANDLER', 'ROSS', 'JOEY', 'SCOTT', 'MEMBER-BOY', 'GILFOYLE','ERLICH', 'DINESH', 'JARED', 'RICHARD']\n",
    "gendered_speakers = female_speakers + male_speakers\n",
    "gender_data = cleaned_data[cleaned_data['SPEAKER'].isin(gendered_speakers)]\n",
    "gender_data['Gender'] = np.where(gender_data['SPEAKER'].isin(female_speakers), 'F', 'M')\n",
    "\n",
    "# Split data by gender\n",
    "female_data = gender_data[gender_data['SPEAKER'].isin(female_speakers)]\n",
    "male_data = gender_data[gender_data['SPEAKER'].isin(male_speakers)]"
   ]
  },
  {
   "cell_type": "code",
   "execution_count": 34,
   "metadata": {},
   "outputs": [
    {
     "data": {
      "text/html": [
       "<div>\n",
       "<style scoped>\n",
       "    .dataframe tbody tr th:only-of-type {\n",
       "        vertical-align: middle;\n",
       "    }\n",
       "\n",
       "    .dataframe tbody tr th {\n",
       "        vertical-align: top;\n",
       "    }\n",
       "\n",
       "    .dataframe thead th {\n",
       "        text-align: right;\n",
       "    }\n",
       "</style>\n",
       "<table border=\"1\" class=\"dataframe\">\n",
       "  <thead>\n",
       "    <tr style=\"text-align: right;\">\n",
       "      <th></th>\n",
       "      <th>SCENE</th>\n",
       "      <th>SENTENCE</th>\n",
       "      <th>SPEAKER</th>\n",
       "      <th>SHOW</th>\n",
       "      <th>Sarcasm</th>\n",
       "      <th>CONTEXT</th>\n",
       "      <th>Gender</th>\n",
       "    </tr>\n",
       "  </thead>\n",
       "  <tbody>\n",
       "    <tr>\n",
       "      <th>5</th>\n",
       "      <td>1_10004</td>\n",
       "      <td>And of those few months, how long have you bee...</td>\n",
       "      <td>SHELDON</td>\n",
       "      <td>BBT</td>\n",
       "      <td>True</td>\n",
       "      <td>[Well, I'm sure that, uh, you...\\r\\nhave a lot...</td>\n",
       "      <td>M</td>\n",
       "    </tr>\n",
       "    <tr>\n",
       "      <th>14</th>\n",
       "      <td>1_10009</td>\n",
       "      <td>Let the dead man talk. So, why do you think that?</td>\n",
       "      <td>PENNY</td>\n",
       "      <td>BBT</td>\n",
       "      <td>True</td>\n",
       "      <td>[FYI, we plan on selling out the human race ha...</td>\n",
       "      <td>F</td>\n",
       "    </tr>\n",
       "    <tr>\n",
       "      <th>18</th>\n",
       "      <td>1_1001</td>\n",
       "      <td>What else? Sell it on eBay as \"slightly used.\"</td>\n",
       "      <td>RAJ</td>\n",
       "      <td>BBT</td>\n",
       "      <td>True</td>\n",
       "      <td>[Or maybe she just doesn't want to talk., Look...</td>\n",
       "      <td>M</td>\n",
       "    </tr>\n",
       "    <tr>\n",
       "      <th>24</th>\n",
       "      <td>1_1003</td>\n",
       "      <td>Good idea, sit with her. Hold her, comfort her...</td>\n",
       "      <td>HOWARD</td>\n",
       "      <td>BBT</td>\n",
       "      <td>False</td>\n",
       "      <td>[It's smashed beyond repair. What are you gonn...</td>\n",
       "      <td>M</td>\n",
       "    </tr>\n",
       "    <tr>\n",
       "      <th>31</th>\n",
       "      <td>1_10190</td>\n",
       "      <td>Well, now that I've given up string theory, I'...</td>\n",
       "      <td>SHELDON</td>\n",
       "      <td>BBT</td>\n",
       "      <td>True</td>\n",
       "      <td>[it's important to the story that my boobs be ...</td>\n",
       "      <td>M</td>\n",
       "    </tr>\n",
       "  </tbody>\n",
       "</table>\n",
       "</div>"
      ],
      "text/plain": [
       "      SCENE                                           SENTENCE  SPEAKER SHOW  \\\n",
       "5   1_10004  And of those few months, how long have you bee...  SHELDON  BBT   \n",
       "14  1_10009  Let the dead man talk. So, why do you think that?    PENNY  BBT   \n",
       "18   1_1001     What else? Sell it on eBay as \"slightly used.\"      RAJ  BBT   \n",
       "24   1_1003  Good idea, sit with her. Hold her, comfort her...   HOWARD  BBT   \n",
       "31  1_10190  Well, now that I've given up string theory, I'...  SHELDON  BBT   \n",
       "\n",
       "    Sarcasm                                            CONTEXT Gender  \n",
       "5      True  [Well, I'm sure that, uh, you...\\r\\nhave a lot...      M  \n",
       "14     True  [FYI, we plan on selling out the human race ha...      F  \n",
       "18     True  [Or maybe she just doesn't want to talk., Look...      M  \n",
       "24    False  [It's smashed beyond repair. What are you gonn...      M  \n",
       "31     True  [it's important to the story that my boobs be ...      M  "
      ]
     },
     "execution_count": 34,
     "metadata": {},
     "output_type": "execute_result"
    }
   ],
   "source": [
    "gender_data.head()"
   ]
  },
  {
   "cell_type": "code",
   "execution_count": 35,
   "metadata": {},
   "outputs": [
    {
     "name": "stdout",
     "output_type": "stream",
     "text": [
      "number of utterances in the raw data 6041\n",
      "number of relevant utterances 1202\n",
      "number of gendered utterances 1109\n",
      "\n",
      "number of male utterances 735\n",
      "number of sarcastic male utterances 360\n",
      "number of non sarcastic male utterances 375\n",
      "\n",
      "number of female utterances 374\n",
      "number of sarcastic female utterances 185\n",
      "number of non sarcastic female utterances 189\n"
     ]
    }
   ],
   "source": [
    "print(\"number of utterances in the raw data\", raw_data.shape[0])\n",
    "print(\"number of relevant utterances\", sarcasm_data.shape[0])\n",
    "print(\"number of gendered utterances\", gender_data.shape[0])\n",
    "print('')\n",
    "print(\"number of male utterances\", male_data.shape[0])\n",
    "print(\"number of sarcastic male utterances\", male_data[male_data['Sarcasm']].shape[0])\n",
    "print(\"number of non sarcastic male utterances\", male_data[male_data['Sarcasm'] == False].shape[0])\n",
    "print('')\n",
    "print(\"number of female utterances\", female_data.shape[0])\n",
    "print(\"number of sarcastic female utterances\", female_data[female_data['Sarcasm']].shape[0])\n",
    "print(\"number of non sarcastic female utterances\", female_data[female_data['Sarcasm'] == False].shape[0])"
   ]
  },
  {
   "cell_type": "code",
   "execution_count": 41,
   "metadata": {},
   "outputs": [],
   "source": [
    "# Convert data to dictionary to match MUSTARD data format\n",
    "data = {}\n",
    "for index, row in gender_data.iterrows():\n",
    "    data[row['SCENE']] = {\n",
    "        'utterance': row['SENTENCE'],\n",
    "        'speaker': row['SPEAKER'],\n",
    "        'context': row['CONTEXT'],\n",
    "        'show': row['SHOW'],\n",
    "        'sarcasm': row['Sarcasm'],\n",
    "        'gender' : row['Gender']\n",
    "    }\n",
    "\n",
    "# Split data by gender\n",
    "F_data = {key: entry for key, entry in data.items() if entry['gender'] == 'F'}\n",
    "M_data = {key: entry for key, entry in data.items() if entry['gender'] == 'M'}\n",
    "\n",
    "# Save data to json\n",
    "with open('data/F_data.json', 'w') as f:\n",
    "    json.dump(F_data, f, indent=4)\n",
    "\n",
    "with open('data/M_data.json', 'w') as f:\n",
    "    json.dump(M_data, f, indent=4)\n",
    "\n",
    "with open('data/mixed_data.json', 'w') as f:\n",
    "    json.dump(data, f, indent=4)"
   ]
  }
 ],
 "metadata": {
  "kernelspec": {
   "display_name": "DLproj",
   "language": "python",
   "name": "python3"
  },
  "language_info": {
   "codemirror_mode": {
    "name": "ipython",
    "version": 3
   },
   "file_extension": ".py",
   "mimetype": "text/x-python",
   "name": "python",
   "nbconvert_exporter": "python",
   "pygments_lexer": "ipython3",
   "version": "3.11.9"
  }
 },
 "nbformat": 4,
 "nbformat_minor": 2
}
