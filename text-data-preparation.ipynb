{
 "cells": [
  {
   "cell_type": "code",
   "execution_count": 47,
   "metadata": {},
   "outputs": [],
   "source": [
    "import pandas as pd\n",
    "import numpy as np\n",
    "import json\n",
    "import random\n",
    "from sklearn.model_selection import train_test_split"
   ]
  },
  {
   "cell_type": "code",
   "execution_count": 2,
   "metadata": {},
   "outputs": [],
   "source": [
    "# Loading JSON files\n",
    "folder = \"data/\"\n",
    "\n",
    "with open(folder + 'mixed_data.json') as f:\n",
    "    mixed_data = json.load(f)\n",
    "\n",
    "with open(folder + 'F_data.json') as f:\n",
    "    F_data = json.load(f)\n",
    "\n",
    "with open(folder + 'M_data.json') as f:\n",
    "    M_data = json.load(f)"
   ]
  },
  {
   "cell_type": "code",
   "execution_count": 4,
   "metadata": {},
   "outputs": [
    {
     "name": "stdout",
     "output_type": "stream",
     "text": [
      "Checking label balance within the different datasets:\n",
      "Mixed sarcastic utterances: 545\n",
      "Mixed non sarcastic utterances: 564\n",
      "Male sarcastic utterances: 360\n",
      "Male non sarcastic utterances: 375\n",
      "Female sarcastic utterances: 185\n",
      "Female non sarcastic utterances: 189\n",
      "\n",
      "Checking gender balance of the filtered dataset:\n",
      "Male utterances: 735\n",
      "Female utterances: 374\n"
     ]
    }
   ],
   "source": [
    "# Checking if the datasets are balanced\n",
    "print('Checking label balance within the different datasets:')\n",
    "\n",
    "n_sarcastic_utterances = len([(key, value) for key, value in mixed_data.items() if value['sarcasm']])\n",
    "n_non_sarcastic_utterances = len([(key, value) for key, value in mixed_data.items() if not value['sarcasm']])\n",
    "if n_sarcastic_utterances == n_non_sarcastic_utterances:\n",
    "    print('The mixed dataset is balanced')\n",
    "else:\n",
    "    print('Mixed sarcastic utterances:', n_sarcastic_utterances)\n",
    "    print('Mixed non sarcastic utterances:', n_non_sarcastic_utterances)\n",
    "\n",
    "M_n_sarcastic_utterances = len([(key, value) for key, value in M_data.items() if value['sarcasm']])\n",
    "M_n_non_sarcastic_utterances = len([(key, value) for key, value in M_data.items() if not value['sarcasm']])\n",
    "if M_n_sarcastic_utterances == M_n_non_sarcastic_utterances:\n",
    "    print('The male dataset is balanced')\n",
    "else:\n",
    "    print('Male sarcastic utterances:', M_n_sarcastic_utterances)\n",
    "    print('Male non sarcastic utterances:', M_n_non_sarcastic_utterances)\n",
    "\n",
    "F_n_sarcastic_utterances = len([(key, value) for key, value in F_data.items() if value['sarcasm']])\n",
    "F_n_non_sarcastic_utterances = len([(key, value) for key, value in F_data.items() if not value['sarcasm']])\n",
    "if F_n_sarcastic_utterances == F_n_non_sarcastic_utterances:\n",
    "    print('The female dataset is balanced')\n",
    "else:\n",
    "    print('Female sarcastic utterances:', F_n_sarcastic_utterances)\n",
    "    print('Female non sarcastic utterances:', F_n_non_sarcastic_utterances)\n",
    "\n",
    "print(\"\")\n",
    "\n",
    "# Checking if the mixed dataset is balanced by gender\n",
    "n_male_utterances = len([(key, value) for key, value in mixed_data.items() if value['gender'] == 'M'])\n",
    "n_female_utterances = len([(key, value) for key, value in mixed_data.items() if value['gender'] == 'F'])\n",
    "if n_male_utterances == n_female_utterances:\n",
    "    print('The original dataset is balanced by gender')\n",
    "else:\n",
    "    print('Checking gender balance of the filtered dataset:')\n",
    "    print('Male utterances:', n_male_utterances)\n",
    "    print('Female utterances:', n_female_utterances)"
   ]
  },
  {
   "cell_type": "markdown",
   "metadata": {},
   "source": [
    "We can consider that the datasets are balanced by sarcasm. \n",
    "However, the mixed dataset is not balanced by gender. There are more male utterances than female utterances. To avoid losing data quality, we chose to perform undersampling. In other words, we will drop male utterances in order to balance the mixed dataset by gender.  "
   ]
  },
  {
   "cell_type": "code",
   "execution_count": 44,
   "metadata": {},
   "outputs": [],
   "source": [
    "male_utterances = [(key, value) for key, value in mixed_data.items() if value['gender'] == 'M']\n",
    "female_utterances = [(key, value) for key, value in mixed_data.items() if value['gender'] == 'F']\n",
    "\n",
    "# Undersampling of male utterances\n",
    "random.seed(42)\n",
    "selected_male_utterances = random.sample(male_utterances, k = len(female_utterances)) \n",
    "\n",
    "balanced_mixed_data = dict(selected_male_utterances + female_utterances)"
   ]
  },
  {
   "cell_type": "code",
   "execution_count": 46,
   "metadata": {},
   "outputs": [
    {
     "name": "stdout",
     "output_type": "stream",
     "text": [
      "Utterances by men in the mixed dataset after augmentation: 374\n",
      "Utterances by women in the mixed dataset after augmentation: 374\n",
      "Sarcastic utterances in the mixed dataset after augmentation: 373\n",
      "Non sarcastic utterances in the mixed dataset after augmentation: 375\n"
     ]
    }
   ],
   "source": [
    "# Check data augmentation of mixed dataset\n",
    "n_female_utterances = len([(key, value) for key, value in balanced_mixed_data.items() if value['gender'] == 'F'])\n",
    "n_male_utterances = len([(key, value) for key, value in balanced_mixed_data.items() if not value['gender'] == 'F'])\n",
    "n_sarcastic_utterances = len([(key, value) for key, value in balanced_mixed_data.items() if value['sarcasm']])\n",
    "n_non_sarcastic_utterances = len([(key, value) for key, value in balanced_mixed_data.items() if not value['sarcasm']])\n",
    "\n",
    "print('Utterances by men in the mixed dataset after augmentation:', n_male_utterances)\n",
    "print('Utterances by women in the mixed dataset after augmentation:', n_female_utterances)\n",
    "print('Sarcastic utterances in the mixed dataset after augmentation:', n_sarcastic_utterances)\n",
    "print('Non sarcastic utterances in the mixed dataset after augmentation:', n_non_sarcastic_utterances)"
   ]
  },
  {
   "cell_type": "code",
   "execution_count": 48,
   "metadata": {},
   "outputs": [],
   "source": [
    "# Making sure the training, validation and test datasets are also balanced.\n",
    "female_sarcastic_utterances = [(key, value) for key, value in balanced_mixed_data.items() if value['gender'] == 'F' and value['sarcasm']]\n",
    "female_non_sarcastic_utterances = [(key, value) for key, value in balanced_mixed_data.items() if value['gender'] == 'F' and not value['sarcasm']]\n",
    "male_sarcastic_utterances = [(key, value) for key, value in balanced_mixed_data.items() if value['gender'] == 'M' and value['sarcasm']]\n",
    "male_non_sarcastic_utterances = [(key, value) for key, value in balanced_mixed_data.items() if value['gender'] == 'M' and not value['sarcasm']]\n",
    "\n",
    "# Splitting the data into 70% training, 15% validation and 15% test\n",
    "FS_train, FS_test_val = train_test_split(female_sarcastic_utterances, test_size = 0.3)\n",
    "FS_test, FS_val = train_test_split(FS_test_val, test_size = 0.5)\n",
    "\n",
    "FnS_train, FnS_test_val = train_test_split(female_non_sarcastic_utterances, test_size = 0.3)\n",
    "FnS_test, FnS_val = train_test_split(FnS_test_val, test_size = 0.5)\n",
    "\n",
    "MS_train, MS_test_val = train_test_split(male_sarcastic_utterances, test_size = 0.3)\n",
    "MS_test, MS_val = train_test_split(MS_test_val, test_size = 0.5)\n",
    "\n",
    "MnS_train, MnS_test_val = train_test_split(male_non_sarcastic_utterances, test_size = 0.3)\n",
    "MnS_test, MnS_val = train_test_split(MnS_test_val, test_size = 0.5)\n",
    "\n",
    "train_set_mixed = dict(FS_train + FnS_train + MS_train + MnS_train)\n",
    "val_set_mixed = dict(FS_val + FnS_val + MS_val + MnS_val)\n",
    "test_set_mixed =  dict(FS_test + FnS_test + MS_test + MnS_test)"
   ]
  },
  {
   "cell_type": "code",
   "execution_count": 50,
   "metadata": {},
   "outputs": [
    {
     "name": "stdout",
     "output_type": "stream",
     "text": [
      "Let's check the size of the different datasets: \n",
      "Mixed data total 748\n",
      "Mixed train 522\n",
      "Mixed val 114\n",
      "Mixed test 112\n"
     ]
    }
   ],
   "source": [
    "print(\"Let's check the size of the different datasets: \")\n",
    "\n",
    "print(\"Mixed data total\", len(balanced_mixed_data))\n",
    "print(\"Mixed train\", len(train_set_mixed))\n",
    "print(\"Mixed val\", len(val_set_mixed))\n",
    "print(\"Mixed test\", len(test_set_mixed))"
   ]
  },
  {
   "cell_type": "code",
   "execution_count": 53,
   "metadata": {},
   "outputs": [
    {
     "name": "stdout",
     "output_type": "stream",
     "text": [
      "Checking label balance within the different datasets:\n",
      "mixed train - sarcastic utterances: 260\n",
      "mixed train - non sarcastic utterances: 262\n",
      "The mixed testing dataset is balanced\n",
      "The mixed validation dataset is balanced\n",
      "\n",
      "The mixed training dataset is balanced by gender\n",
      "The mixed testing dataset is balanced by gender\n",
      "The mixed training dataset is balanced by gender\n"
     ]
    }
   ],
   "source": [
    "# Checking if the datasets are balanced\n",
    "print('Checking label balance within the different datasets:')\n",
    "print('mixed train - sarcastic utterances:', len([(key, value) for key, value in train_set_mixed.items() if value['sarcasm']]))\n",
    "print('mixed train - non sarcastic utterances:', len([(key, value) for key, value in train_set_mixed.items() if not value['sarcasm']]))\n",
    "\n",
    "n_sarcastic_utterances = len([(key, value) for key, value in test_set_mixed.items() if value['sarcasm']])\n",
    "n_non_sarcastic_utterances = len([(key, value) for key, value in test_set_mixed.items() if not value['sarcasm']])\n",
    "if n_sarcastic_utterances == n_non_sarcastic_utterances:\n",
    "    print('The mixed testing dataset is balanced')\n",
    "\n",
    "n_sarcastic_utterances = len([(key, value) for key, value in val_set_mixed.items() if value['sarcasm']])\n",
    "n_non_sarcastic_utterances = len([(key, value) for key, value in val_set_mixed.items() if not value['sarcasm']])\n",
    "if n_sarcastic_utterances == n_non_sarcastic_utterances:\n",
    "    print('The mixed validation dataset is balanced')\n",
    "\n",
    "print(\"\")\n",
    "\n",
    "# Checking if the mixed dataset is balanced by gender\n",
    "n_male_utterances = len([(key, value) for key, value in train_set_mixed.items() if value['gender'] == 'M'])\n",
    "n_female_utterances = len([(key, value) for key, value in train_set_mixed.items() if value['gender'] == 'F'])\n",
    "if n_male_utterances == n_female_utterances:\n",
    "    print('The mixed training dataset is balanced by gender')\n",
    "else:\n",
    "    print('Checking gender balance of the filtered dataset:')\n",
    "    print('Male utterances:', n_male_utterances)\n",
    "    print('Female utterances:', n_female_utterances)\n",
    "\n",
    "n_male_utterances = len([(key, value) for key, value in test_set_mixed.items() if value['gender'] == 'M'])\n",
    "n_female_utterances = len([(key, value) for key, value in test_set_mixed.items() if value['gender'] == 'F'])\n",
    "if n_male_utterances == n_female_utterances:\n",
    "    print('The mixed testing dataset is balanced by gender')\n",
    "\n",
    "n_male_utterances = len([(key, value) for key, value in val_set_mixed.items() if value['gender'] == 'M'])\n",
    "n_female_utterances = len([(key, value) for key, value in val_set_mixed.items() if value['gender'] == 'F'])\n",
    "if n_male_utterances == n_female_utterances:\n",
    "    print('The mixed training dataset is balanced by gender')"
   ]
  },
  {
   "cell_type": "code",
   "execution_count": 49,
   "metadata": {},
   "outputs": [],
   "source": [
    "# Save subsets as JSON files to be used in training\n",
    "with open('data/mixed_train_set.json', 'w') as f:\n",
    "    json.dump(train_set_mixed, f, indent=4)\n",
    "\n",
    "with open('data/mixed_val_set.json', 'w') as f:\n",
    "    json.dump(val_set_mixed, f, indent=4)\n",
    "\n",
    "with open('data/mixed_test_set.json', 'w') as f:\n",
    "    json.dump(test_set_mixed, f, indent=4)"
   ]
  }
 ],
 "metadata": {
  "kernelspec": {
   "display_name": "DLproj",
   "language": "python",
   "name": "python3"
  },
  "language_info": {
   "codemirror_mode": {
    "name": "ipython",
    "version": 3
   },
   "file_extension": ".py",
   "mimetype": "text/x-python",
   "name": "python",
   "nbconvert_exporter": "python",
   "pygments_lexer": "ipython3",
   "version": "3.11.9"
  }
 },
 "nbformat": 4,
 "nbformat_minor": 2
}
